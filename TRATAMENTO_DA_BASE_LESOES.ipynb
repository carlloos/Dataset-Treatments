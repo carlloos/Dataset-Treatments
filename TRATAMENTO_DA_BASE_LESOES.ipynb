{
  "nbformat": 4,
  "nbformat_minor": 0,
  "metadata": {
    "colab": {
      "name": "TRATAMENTO DA BASE LESOES",
      "provenance": [],
      "collapsed_sections": []
    },
    "kernelspec": {
      "name": "python3",
      "display_name": "Python 3"
    },
    "language_info": {
      "name": "python"
    }
  },
  "cells": [
    {
      "cell_type": "code",
      "metadata": {
        "id": "i8cfiRxCA9bw"
      },
      "source": [
        "import pandas as pd\n",
        "\n",
        "data = pd.read_excel(\"/content/Incidencia_de_Lesoes_em_Atletas_de_Basquete_de_Alagoas_respostas.xlsx\")\n",
        "\n",
        "##Mudando o nome das colunas (para ficar mais fácil o acesso)\n",
        "data.columns = ['Carimbo de data/hora', 'Endereço de e-mail',\n",
        "       'Você concorda em participar do nosso estudo e responder a esse questionário?',\n",
        "       'Nome completo: ', 'Idade', 'Cidade_estado', 'Genero',\n",
        "       'peso_kg', 'altura_cm', 'membro_dominante',\n",
        "       'mao_arremesso',\n",
        "       'perna_apoio',\n",
        "       'posicao',\n",
        "       'tempo_pratica',\n",
        "       'num_compet_12meses',\n",
        "       'num_treino_semana',\n",
        "       'lesao_musculoesqueletica_12meses',\n",
        "       'lesao_musculoesqueletica_carreira',\n",
        "       'lesao_treino_ou_compet',\n",
        "       'num_lesoes_em_compet',\n",
        "       'num_lesoes_em_treino',\n",
        "       'locais_lesao',\n",
        "       'tecido_lesionado',\n",
        "       'lesao_apos_aumento_intensidade_treino',\n",
        "       'lesao_apos_aumento_jogos',\n",
        "       'deixar_partida_lesao_cronica',\n",
        "       'momento_lesao',\n",
        "       'sente_dor_onde',\n",
        "       'modifica_jogo_para_evitar_lesao',\n",
        "       'ranger_ou_estalar_em',\n",
        "       'dificuldade_agachar',\n",
        "       'dificuldade_saltar',\n",
        "       'dificulade_mudar_direcao',\n",
        "       'dificuldade_arremessar',\n",
        "       'atendimento_ou_orientação_fisio',\n",
        "       'tratamento_fisio_lesao',\n",
        "       'orientacao_prevencao_lesoes',\n",
        "       'estrategias_nutricionais_perfomance',\n",
        "       'alimentacao_orientacao',\n",
        "       'suplemento_pretreino',\n",
        "       'suplemento_compet']\n",
        "#data.columns\n",
        "#data.to_excel(\"data.xlsx\")\n",
        "#data.info()"
      ],
      "execution_count": null,
      "outputs": []
    },
    {
      "cell_type": "code",
      "metadata": {
        "id": "WT1lrKvFzlat",
        "colab": {
          "base_uri": "https://localhost:8080/"
        },
        "outputId": "a8ce35d6-dce5-4e48-df86-8b333a7c6a2f"
      },
      "source": [
        "data.shape"
      ],
      "execution_count": null,
      "outputs": [
        {
          "output_type": "execute_result",
          "data": {
            "text/plain": [
              "(159, 41)"
            ]
          },
          "metadata": {
            "tags": []
          },
          "execution_count": 2
        }
      ]
    },
    {
      "cell_type": "code",
      "metadata": {
        "id": "EvJDfBBKhhqr"
      },
      "source": [
        "#PADRONIZAÇÃO DA COLUNA Idade\n",
        "data.Idade.unique()\n",
        "\n",
        "data.Idade = data.Idade.replace('29 anos ',29)\n",
        "data.Idade = data.Idade.replace('39 anos ',39)\n",
        "data.Idade = data.Idade.replace('19 anos',19)\n",
        "data.Idade = data.Idade.replace('20 anos',20)\n",
        "data.Idade = data.Idade.replace(',48 anos',48)\n",
        "data.Idade = data.Idade.replace('47 anos',47)\n",
        "data.Idade = data.Idade.replace('38 anos',38)\n",
        "data.Idade = data.Idade.replace('24 anos ',24)\n",
        "data.Idade = data.Idade.replace('29 anos',29)\n"
      ],
      "execution_count": null,
      "outputs": []
    },
    {
      "cell_type": "code",
      "metadata": {
        "id": "criJ_9uvuTbp",
        "colab": {
          "base_uri": "https://localhost:8080/"
        },
        "outputId": "f1b2c7db-f69f-46ba-8368-87d455bf9300"
      },
      "source": [
        "#PADRONIZAÇÃO DA COLUNA Cidade_estado\n",
        "\n",
        "#Padronizando os valores de quem mora em Maceió\n",
        "mcz = ['Maceió Alagoas ', 'Maceió/al', 'Maceio/AL', 'Maceió/Alagoas',\n",
        "       'MACEIO', 'Maceió- Al', 'Maceio/Alagoas', 'MACEIO/AL',\n",
        "       'Maceió Alagoas', 'Maceió/AL', 'Maceió Al','Maceió', 'Maceió AL ','Maceió ',\n",
        "       'Maceio/ alagoas', 'Maceio al.', 'MACEIÓ / ALAGOAS', 'Maceió-AL',\n",
        "       'Maceió- AL', 'Maceio/Alagoas ', 'Maceió-al','Maceió - AL', 'Maceió al','Maceio - AL', 'Maceió-Al', 'Maceio', 'Maceio-AL',\n",
        "       'Maceió /Alagoas','Maceió/ Alagoas',\n",
        "       'Maceió / Alagoas', 'Maceió/Al', 'Maceió/ Alagoas ', 'Maceio Al',\n",
        "       'Mário/AL','Maceió / Alagoas ',\n",
        "       'Maceio / Alagoas','Maceió-Al ','Maceió-Alagoas', 'Maceió - al', 'Maceió / AL', 'Maceió, Alagoas.','Alagoas/ Maceió ',\n",
        "       'Maceio/alagoas', 'Maceió/ AL', 'Maceio/al', 'Maceió/Alagoas ',\n",
        "       'Maceio AL', 'Maceió - Alagoas ', 'Maceio alagoagoa']\n",
        "data.Cidade_estado = data.Cidade_estado.replace(to_replace= mcz, value = \"Maceió-AL\")\n",
        "\n",
        "#Padronizando os valores de quem mora em Rio largo\n",
        "riolargo = ['Rio Largo/AL','Rio Largo /Alagoas','RIO LARGO ','Rio Largo']\n",
        "data.Cidade_estado = data.Cidade_estado.replace(to_replace = riolargo, value = \"Rio Largo-AL\")\n",
        "#padronizando os valores de quem mora em Recife\n",
        "recife =['Recife/PE','Recife ','Recife/Pernambuco ']\n",
        "data.Cidade_estado = data.Cidade_estado.replace(to_replace = recife, value = \"Recife-PE\")\n",
        "#padronizando os valores unicos restantes\n",
        "data.Cidade_estado = data.Cidade_estado.replace(to_replace = \"Delmiro Gouveia AL\", value = \"Delmiro Gouveia-AL\")\n",
        "data.Cidade_estado = data.Cidade_estado.replace(to_replace = \"Satuba\", value = \"Satuba-AL\")\n",
        "data.Cidade_estado = data.Cidade_estado.replace(to_replace = 'Teotônio Vilela Alagoas ', value = \"Teotônio Vilela-AL\")\n",
        "data.Cidade_estado = data.Cidade_estado.replace(to_replace = 'SÃO PAULO/SP', value = \"São Paulo-SP\")\n",
        "data.Cidade_estado = data.Cidade_estado.replace(to_replace = 'Brasília - DF', value = \"Brasília-DF\")\n",
        "data.Cidade_estado = data.Cidade_estado.replace(to_replace = 'Salvador/BA', value = \"Salvador-BA\")\n",
        "\n",
        "data.Cidade_estado.unique()\n",
        "#Tem alguns dados errados nessa coluna pensei em anular e excluir as linhas \n",
        "#mas não sei se cidade_estado é fundamental para o modelo então deixarei assim\n",
        "\n"
      ],
      "execution_count": null,
      "outputs": [
        {
          "output_type": "execute_result",
          "data": {
            "text/plain": [
              "array(['Maceió-AL', 'Casado', 'Alagoas', 'Rio Largo-AL', 'Recife-PE',\n",
              "       'Solteiro ', 'Delmiro Gouveia-AL', 'Satuba-AL',\n",
              "       'Teotônio Vilela-AL', 'São Paulo-SP', 'Brasília-DF', 'Salvador-BA',\n",
              "       nan], dtype=object)"
            ]
          },
          "metadata": {
            "tags": []
          },
          "execution_count": 4
        }
      ]
    },
    {
      "cell_type": "code",
      "metadata": {
        "id": "c2jANNw3cuN_",
        "colab": {
          "base_uri": "https://localhost:8080/"
        },
        "outputId": "0a6a4ad7-4330-4291-f59f-623b5e199e45"
      },
      "source": [
        "#PADRONIZAÇÃO DA COLUNA peso_kg\n",
        "\n",
        "data.peso_kg = data.peso_kg.replace('78kg',78)\n",
        "data.peso_kg = data.peso_kg.replace('75kl',75)\n",
        "data.peso_kg = data.peso_kg.replace('65kg',65)\n",
        "data.peso_kg = data.peso_kg.replace('76kg',76)\n",
        "data.peso_kg = data.peso_kg.replace('120.00',120)\n",
        "data.peso_kg = data.peso_kg.replace('75,300 kg',75.3)\n",
        "data.peso_kg = data.peso_kg.replace('57kgs',57)\n",
        "data.peso_kg = data.peso_kg.replace('105 Kg ',105)\n",
        "data.peso_kg = data.peso_kg.replace('97kg',97)\n",
        "data.peso_kg = data.peso_kg.replace('61kg',61)\n",
        "data.peso_kg = data.peso_kg.replace('70kg',70)\n",
        "data.peso_kg = data.peso_kg.replace('99 kg',99)\n",
        "data.peso_kg = data.peso_kg.replace('91 kg',91)\n",
        "data.peso_kg = data.peso_kg.replace('58kg',58)\n",
        "data.peso_kg = data.peso_kg.replace('72 kg',72)\n",
        "data.peso_kg = data.peso_kg.replace('88KG',88)\n",
        "data.peso_kg = data.peso_kg.replace('90 kg',90)\n",
        "data.peso_kg = data.peso_kg.replace('88kg',88)\n",
        "data.peso_kg = data.peso_kg.replace('108kg',108)\n",
        "data.peso_kg = data.peso_kg.replace('95kg',95)\n",
        "\n",
        "data.peso_kg.unique()\n"
      ],
      "execution_count": null,
      "outputs": [
        {
          "output_type": "execute_result",
          "data": {
            "text/plain": [
              "array([ 83.  ,  75.  ,  78.  ,  73.  , 126.  ,  84.  ,  97.  , 115.  ,\n",
              "        89.  ,  65.  ,  53.  , 128.  ,  46.  ,  62.  ,  61.  ,  76.  ,\n",
              "        67.  ,  64.  , 120.  ,  88.  ,  93.  ,  72.  ,  74.  ,  75.3 ,\n",
              "        95.  , 125.  ,  77.  ,  69.  ,  55.  ,  48.  ,  81.  ,  57.  ,\n",
              "        87.  ,  94.  ,  58.  , 108.  , 110.  , 104.  ,  90.  ,  85.  ,\n",
              "       100.05, 105.  ,  82.  ,  59.  ,  92.  , 109.  ,  54.  ,  91.  ,\n",
              "        68.  ,  56.  ,  70.  ,  99.  ,  60.  , 140.  , 100.  , 142.  ,\n",
              "        80.  , 118.  , 101.  ,  83.5 , 112.  , 117.  , 102.  ,    nan,\n",
              "        71.  ,  98.  ,  99.7 ])"
            ]
          },
          "metadata": {
            "tags": []
          },
          "execution_count": 5
        }
      ]
    },
    {
      "cell_type": "code",
      "metadata": {
        "colab": {
          "base_uri": "https://localhost:8080/"
        },
        "id": "xnGiXRcEyS3H",
        "outputId": "74af8a38-8a06-4b76-a1d8-d1258beffd37"
      },
      "source": [
        "data.altura_cm.unique()"
      ],
      "execution_count": null,
      "outputs": [
        {
          "output_type": "execute_result",
          "data": {
            "text/plain": [
              "array([174, 1.58, 1.68, 169, '1.64', 196, 184, 187, 197, 176, 171, 163,\n",
              "       '1.89', 1.56, 1.64, 1.73, '1.73', 1.77, 1.62, 1.75, 1.7, 1.82, 188,\n",
              "       178, 170, '1,75 cm', 1.88, 182, 1.78, 190, 183, 1.71, 162, 1.81,\n",
              "       '1.92', 180, 175, 1.74, 1.98, '1.83', 1.8, 2.1, 1.83, 1.87, '1.82',\n",
              "       200, 2, 192, 1.59, 1.85, '1.93', 193, '1, 78', '1.81', 173, '1.62',\n",
              "       160, 1.69, 159, 1.63, 172, 1.6, '1 63', '1.67', 1.76, 181, '181cm',\n",
              "       1.65, 1.84, '1.88', 186, 1.89, '166cm', '1.82 cm', 177, '2.01',\n",
              "       191, '1.80', '1,80 cm', '1.90', 2.02, 1.91, 1.79, 1.86, '1.78',\n",
              "       185, '1,77m', '1.87', '187cm', 179, 1.94], dtype=object)"
            ]
          },
          "metadata": {
            "tags": []
          },
          "execution_count": 7
        }
      ]
    },
    {
      "cell_type": "code",
      "metadata": {
        "colab": {
          "base_uri": "https://localhost:8080/"
        },
        "id": "Gn_KJvZTiNCm",
        "outputId": "0a78455e-1a2f-490a-8d0c-24339295bb1d"
      },
      "source": [
        "#PADRONIZAÇÃO COLUNA altura_cm\n",
        "\n",
        "data.altura_cm = data.altura_cm.replace(1.58,158)\n",
        "data.altura_cm = data.altura_cm.replace(1.68,168)\n",
        "data.altura_cm = data.altura_cm.replace('1.64',164)\n",
        "data.altura_cm = data.altura_cm.replace('1.89',189)\n",
        "data.altura_cm = data.altura_cm.replace(1.56,156)\n",
        "data.altura_cm = data.altura_cm.replace(1.64,164)\n",
        "data.altura_cm = data.altura_cm.replace(1.73,173)\n",
        "data.altura_cm = data.altura_cm.replace('1.73',173)\n",
        "data.altura_cm = data.altura_cm.replace(1.77,177)\n",
        "data.altura_cm = data.altura_cm.replace(1.62,162)\n",
        "data.altura_cm = data.altura_cm.replace(1.75,175)\n",
        "data.altura_cm = data.altura_cm.replace(1.7,170)\n",
        "data.altura_cm = data.altura_cm.replace(1.82,182)\n",
        "data.altura_cm = data.altura_cm.replace('1,75 cm',175)\n",
        "data.altura_cm = data.altura_cm.replace(1.88,188)\n",
        "data.altura_cm = data.altura_cm.replace(1.78,178)\n",
        "data.altura_cm = data.altura_cm.replace(1.71,171)\n",
        "data.altura_cm = data.altura_cm.replace(1.81,181)\n",
        "data.altura_cm = data.altura_cm.replace('1.92',192)\n",
        "data.altura_cm = data.altura_cm.replace(1.74,174)\n",
        "data.altura_cm = data.altura_cm.replace(1.98,198)\n",
        "data.altura_cm = data.altura_cm.replace('1.83',183)\n",
        "data.altura_cm = data.altura_cm.replace(1.8,180)\n",
        "data.altura_cm = data.altura_cm.replace(2.1,210)\n",
        "data.altura_cm = data.altura_cm.replace(1.83,183)\n",
        "data.altura_cm = data.altura_cm.replace(1.87,187)\n",
        "data.altura_cm = data.altura_cm.replace('1.82',182)\n",
        "data.altura_cm = data.altura_cm.replace(2,200)\n",
        "data.altura_cm = data.altura_cm.replace(1.59,159)\n",
        "data.altura_cm = data.altura_cm.replace(1.85,185)\n",
        "data.altura_cm = data.altura_cm.replace('1.93',193)\n",
        "data.altura_cm = data.altura_cm.replace('1, 78',178)\n",
        "data.altura_cm = data.altura_cm.replace('1.81',181)\n",
        "data.altura_cm = data.altura_cm.replace('1.62',162)\n",
        "data.altura_cm = data.altura_cm.replace(1.69,169)\n",
        "data.altura_cm = data.altura_cm.replace(1.63,163)\n",
        "data.altura_cm = data.altura_cm.replace(1.6,160)\n",
        "data.altura_cm = data.altura_cm.replace('1 63',163)\n",
        "data.altura_cm = data.altura_cm.replace('1.67',167)\n",
        "data.altura_cm = data.altura_cm.replace(1.76,176)\n",
        "data.altura_cm = data.altura_cm.replace('181cm',181)\n",
        "data.altura_cm = data.altura_cm.replace(1.65,165)\n",
        "data.altura_cm = data.altura_cm.replace(1.84,184)\n",
        "data.altura_cm = data.altura_cm.replace('1.88',188)\n",
        "data.altura_cm = data.altura_cm.replace(1.89,189)\n",
        "data.altura_cm = data.altura_cm.replace('166cm',166)\n",
        "data.altura_cm = data.altura_cm.replace('1.82 cm',182)\n",
        "data.altura_cm = data.altura_cm.replace('2.01',201)\n",
        "data.altura_cm = data.altura_cm.replace('1.80',180)\n",
        "data.altura_cm = data.altura_cm.replace('1,80 cm',180)\n",
        "data.altura_cm = data.altura_cm.replace('1.90',190)\n",
        "data.altura_cm = data.altura_cm.replace(2.02,202)\n",
        "data.altura_cm = data.altura_cm.replace(1.91,191)\n",
        "data.altura_cm = data.altura_cm.replace( 1.79,179)\n",
        "data.altura_cm = data.altura_cm.replace(1.86,186)\n",
        "data.altura_cm = data.altura_cm.replace('1.78',178)\n",
        "data.altura_cm = data.altura_cm.replace('1,77m',177)\n",
        "data.altura_cm = data.altura_cm.replace('1.87',187)\n",
        "data.altura_cm = data.altura_cm.replace('187cm',187)\n",
        "data.altura_cm = data.altura_cm.replace(1.94,194)\n",
        "\n",
        "\n",
        "\n",
        "\n",
        "\n",
        "data.altura_cm.unique()"
      ],
      "execution_count": null,
      "outputs": [
        {
          "output_type": "execute_result",
          "data": {
            "text/plain": [
              "array([174., 158., 168., 169., 164., 196., 184., 187., 197., 176., 171.,\n",
              "       163., 189., 156., 173., 177., 162., 175., 170., 182., 188., 178.,\n",
              "       190., 183., 181., 192., 180., 198., 210., 200., 159., 185., 193.,\n",
              "       160., 172., 167., 165., 186., 166., 201., 191., 202., 179., 194.])"
            ]
          },
          "metadata": {
            "tags": []
          },
          "execution_count": 6
        }
      ]
    },
    {
      "cell_type": "code",
      "metadata": {
        "colab": {
          "base_uri": "https://localhost:8080/"
        },
        "id": "bsz3WD_w4px6",
        "outputId": "8d6460f9-7c15-4f70-bdfd-75abc067d982"
      },
      "source": [
        "data.alimentacao_orientacao = data.alimentacao_orientacao.replace('Youtube ', \"YouTube\") \n",
        "data.alimentacao_orientacao.unique()"
      ],
      "execution_count": null,
      "outputs": [
        {
          "output_type": "execute_result",
          "data": {
            "text/plain": [
              "array(['Nutricionista', 'Não', 'YouTube', nan, 'Educador Físico ',\n",
              "       'Estudante de nutrição ', 'Preparador físico ', 'Endocrinologista',\n",
              "       'Nutrólogo', 'Nutricionista, Endocrinologista',\n",
              "       'Nutricionista, Nutrólogo', 'Edf'], dtype=object)"
            ]
          },
          "metadata": {
            "tags": []
          },
          "execution_count": 7
        }
      ]
    },
    {
      "cell_type": "code",
      "metadata": {
        "id": "la4AHs_YixgG"
      },
      "source": [
        "#PADRONIZAÇÃO num_compet_12meses\n",
        "data.num_compet_12meses.unique()\n",
        "\n",
        "data.num_compet_12meses = data.num_compet_12meses.replace('10 ou mais', 10)\n"
      ],
      "execution_count": null,
      "outputs": []
    },
    {
      "cell_type": "code",
      "metadata": {
        "id": "oKtDZdZd91WH"
      },
      "source": [
        "data.to_excel(\"data_padronizada.xlsx\")"
      ],
      "execution_count": null,
      "outputs": []
    },
    {
      "cell_type": "code",
      "metadata": {
        "colab": {
          "base_uri": "https://localhost:8080/"
        },
        "id": "-e17MGUrdpWf",
        "outputId": "2e51afe1-dc3a-43f3-86b4-6b6b2296a075"
      },
      "source": [
        "#data.isnull().sum()\n",
        "data = data.dropna()\n",
        "\n",
        "data.shape"
      ],
      "execution_count": null,
      "outputs": [
        {
          "output_type": "execute_result",
          "data": {
            "text/plain": [
              "(88, 41)"
            ]
          },
          "metadata": {
            "tags": []
          },
          "execution_count": 10
        }
      ]
    },
    {
      "cell_type": "code",
      "metadata": {
        "id": "KUYuLn1XmBEY"
      },
      "source": [
        "data.to_excel(\"data_sem_nulo.xlsx\")"
      ],
      "execution_count": null,
      "outputs": []
    },
    {
      "cell_type": "code",
      "metadata": {
        "id": "jg2D2q2ZcJ6d"
      },
      "source": [
        "import pandas as pd\n",
        "dados = pd.read_excel(\"data_sem_nulo.xlsx\")\n"
      ],
      "execution_count": null,
      "outputs": []
    },
    {
      "cell_type": "code",
      "metadata": {
        "colab": {
          "base_uri": "https://localhost:8080/"
        },
        "id": "2qYQuhMqIoCe",
        "outputId": "20722cc1-f938-4b25-d9c2-deaed7e31d19"
      },
      "source": [
        "dados.locais_lesao.unique()"
      ],
      "execution_count": null,
      "outputs": [
        {
          "output_type": "execute_result",
          "data": {
            "text/plain": [
              "array(['Pé e tornozelo esquerdo', 'Pé',\n",
              "       'Tornozelo, dedo das mãos o \"polegar e o mínimo.\"',\n",
              "       'Tornozelo direito/ cotovelo direito', 'Coxa, Lombar e Tornozelo',\n",
              "       'JOELHO, OMBRO, DEDOS, TORNOZELO, PUNHO, COXA',\n",
              "       'Tornozelo e joelho',\n",
              "       'Joelho Direito, tornozelo ( esquerdo e direito) , metacarpos, falanges, clavicula direita, ombro ( esquedo e direito), nariz, mandíbula, posterior da coxa',\n",
              "       'Braço esquerdo, e tornozelo ', 'Pé ', 'Joelho ',\n",
              "       'Ombro, Pé e Coluna ',\n",
              "       'Punho direito, tornozelo direito, polegar direito',\n",
              "       'Panturrilha ', 'Quadril, joelho e coluna ',\n",
              "       'Tornozelos e dedos das mãos.',\n",
              "       'Joelhos esquedo e direito, pés esquedo e direito multiplas vezes ombro direito.',\n",
              "       'Tornozelo e mão', 'Tornozelos', 'Ombro e dedo',\n",
              "       'Ombro, joelho e pé', 'Joelhos', 'Dedo da mão, tornozelo.',\n",
              "       'Joelho', 'Joelhos, Tendões de aquiles e Ombro esquerdo',\n",
              "       'Tornozelo direito e esquerdo, quadríceps, joelho esquerdo, lombar, pé direito.',\n",
              "       'tornozelo', 'Joelho e dedos ', 'Ombro, joelho e tornozelo. ',\n",
              "       'Tornozelo ', 'Tornozelo , dedos, coxa',\n",
              "       'Joelho, tornozelo, ombro, lombar, quadríceps, tendões',\n",
              "       'Tornozelo e joelho ', 'Tornozelo',\n",
              "       'Ombro, dedos da mão, joelho, tornozelo ', 'Panturrilha',\n",
              "       'Ombro mão dedos pés', 'Tornozelo, polegares, joelhos',\n",
              "       'Tornozelo esquerdo e joelhos', 'Joelho direito e esquerdo',\n",
              "       'Tornozelo e Joelho', 'Tornozelo panturrilha', 'Mão e pé ',\n",
              "       'joelho', 'Dedo da mão e braço direito', 'Joelho , Pé',\n",
              "       'Rosto e tornozelo', 'Joelho esquerdo e direito',\n",
              "       'Ombro, joelho, tornozelo', 'Tornozelo e coluna',\n",
              "       'Pé/Ombro/joelho ', 'Tornozelo, dedos da mão ',\n",
              "       'Pe, joelho, viriliza, púbis, lombar, ombro, mãos, dedos',\n",
              "       'Dedos e lombar ', 'Dedo mindinho , mão esquerda ', 'Braço ',\n",
              "       'Dedo, tornozelo, joelho e ombro', 'Torcer o tornozelo',\n",
              "       'Joelho esquerdo',\n",
              "       'Dente coxa tornozelo clavicula joelho tendao de aquiles ',\n",
              "       'Metacarpo, falanges de ambas as maos, joelho e lombar',\n",
              "       'Tornozelo, ombro e joelho.', 'Tornozelo e dedos',\n",
              "       'Joelhos, costas, ombros e pulsos.', 'Joelho, mão, pé, coxas',\n",
              "       'Coluna e joelho ', 'Joelho, dedos da mão e pe direito.',\n",
              "       'Joelho, punho, dedos', 'Joelho e tornozelo ',\n",
              "       'Tornozelo, joelho, coluna', 'Ombro ',\n",
              "       'Tornozelo e dedos das mãos ', 'Membros inferiores e superiores',\n",
              "       'Mão, pé, ombro e joelho',\n",
              "       'Tornozelo, cotovelo, pulso, tendão de Aquiles, calcanhar, púbis'],\n",
              "      dtype=object)"
            ]
          },
          "metadata": {
            "tags": []
          },
          "execution_count": 13
        }
      ]
    },
    {
      "cell_type": "code",
      "metadata": {
        "id": "XDOtPnsI3RiD"
      },
      "source": [
        "#LOCAIS DE MAIOR INCIDENCIA DE LESOES NO BASQUETE : TORNOZELO, JOELHO E DEDOS.\n",
        "dados.locais_lesao.unique()\n",
        "\n",
        "#criando coluna com todos que tiveram lesões no joelho\n",
        "\n",
        "dados[\"lesao_joelho\"] = dados.locais_lesao.str.contains(\"Joelho|JOELHO|joelho|joelhos|Joelhos\")\n",
        "#dados.head(10)\n",
        "\n",
        "#criando coluna com todos que tiveram lesões no tornozelo\n",
        "\n",
        "dados[\"lesao_tornozelo\"] = dados.locais_lesao.str.contains(\"tornozelo|Tornozelo|TORNOZELO|Tornozelos\")\n",
        "\n",
        "#criando coluna com todos que tiveram lesões nos dedos\n",
        "\n",
        "dados[\"lesao_dedos\"] = dados.locais_lesao.str.contains(\"Dedo|dedo|Dedos|dedos|DEDOS\")\n",
        "\n",
        "dados = dados.drop(columns= ['Unnamed: 0', 'Carimbo de data/hora', 'Endereço de e-mail',\n",
        "       'Você concorda em participar do nosso estudo e responder a esse questionário?',\n",
        "       'Nome completo: ','Cidade_estado']) #colunas categoricas que nao entrarçao no treino dos modeos\n",
        "\n",
        "dados = dados.drop(columns = ['locais_lesao']) #ja separamos os locais entao tira esa coluna\n",
        "dados = dados.drop(columns = ['suplemento_pretreino', 'suplemento_compet',]) #essas colunas nao alteraram em nada os valores dos modelos"
      ],
      "execution_count": null,
      "outputs": []
    },
    {
      "cell_type": "code",
      "metadata": {
        "colab": {
          "base_uri": "https://localhost:8080/"
        },
        "id": "6d1ubhEaH91M",
        "outputId": "67b8dab5-0fff-44d6-bb95-8f8239227f53"
      },
      "source": [
        "\n",
        "dados[\"tecido_lesionado_musculo\"] = dados.tecido_lesionado.str.contains(\"Músculo\")\n",
        "dados[\"tecido_lesionado_tendao\"] = dados.tecido_lesionado.str.contains(\"Tendão\")\n",
        "dados[\"tecido_lesionado_ligamento\"] = dados.tecido_lesionado.str.contains(\"Ligamento\")\n",
        "dados[\"tecido_lesionado_articulacao\"] = dados.tecido_lesionado.str.contains(\"Articulação\")\n",
        "dados[\"tecido_lesionado_osso\"] = dados.tecido_lesionado.str.contains(\"Osso\")\n",
        "dados[\"tecido_lesionado_nervo\"] = dados.tecido_lesionado.str.contains(\"Nervo\")\n",
        "dados = dados.drop(columns = ['tecido_lesionado'])\n",
        "dados.columns"
      ],
      "execution_count": null,
      "outputs": [
        {
          "output_type": "execute_result",
          "data": {
            "text/plain": [
              "Index(['Idade', 'Genero', 'peso_kg', 'altura_cm', 'membro_dominante',\n",
              "       'mao_arremesso', 'perna_apoio', 'posicao', 'tempo_pratica',\n",
              "       'num_compet_12meses', 'num_treino_semana',\n",
              "       'lesao_musculoesqueletica_12meses', 'lesao_musculoesqueletica_carreira',\n",
              "       'lesao_treino_ou_compet', 'num_lesoes_em_compet',\n",
              "       'num_lesoes_em_treino', 'lesao_apos_aumento_intensidade_treino',\n",
              "       'lesao_apos_aumento_jogos', 'deixar_partida_lesao_cronica',\n",
              "       'momento_lesao', 'sente_dor_onde', 'modifica_jogo_para_evitar_lesao',\n",
              "       'ranger_ou_estalar_em', 'dificuldade_agachar', 'dificuldade_saltar',\n",
              "       'dificulade_mudar_direcao', 'dificuldade_arremessar',\n",
              "       'atendimento_ou_orientação_fisio', 'tratamento_fisio_lesao',\n",
              "       'orientacao_prevencao_lesoes', 'estrategias_nutricionais_perfomance',\n",
              "       'alimentacao_orientacao', 'lesao_joelho', 'lesao_tornozelo',\n",
              "       'lesao_dedos', 'tecido_lesionado_musculo', 'tecido_lesionado_tendao',\n",
              "       'tecido_lesionado_ligamento', 'tecido_lesionado_articulacao',\n",
              "       'tecido_lesionado_osso', 'tecido_lesionado_nervo'],\n",
              "      dtype='object')"
            ]
          },
          "metadata": {
            "tags": []
          },
          "execution_count": 15
        }
      ]
    },
    {
      "cell_type": "code",
      "metadata": {
        "colab": {
          "base_uri": "https://localhost:8080/",
          "height": 151
        },
        "id": "Vm3Gr71FLBTH",
        "outputId": "f7f60135-75c3-477f-dcba-c22e5cb91533"
      },
      "source": [
        "dados.momento_lesao.unique()\n",
        "\n",
        "dados[\"momento_lesao_naosabe\"] = dados.momento_lesao.str.contains(\"Não sei identificar\")\n",
        "dados[\"momento_lesao_queda\"] = dados.momento_lesao.str.contains(\"Queda\")\n",
        "dados[\"momento_lesao_corrida\"] = dados.momento_lesao.str.contains(\"Corrida de Velocidade\")\n",
        "dados[\"momento_lesao_aterrissagem\"] = dados.momento_lesao.str.contains(\"Aterrissagem\")\n",
        "dados[\"momento_lesao_arranque\"] = dados.momento_lesao.str.contains(\"Arranque\")\n",
        "dados[\"momento_lesao_salto\"] = dados.momento_lesao.str.contains(\"Salto\")\n",
        "dados[\"momento_lesao_choque\"]= dados.momento_lesao.str.contains('Choque')\n",
        "dados[\"momento_lesao_passe\"] = dados.momento_lesao.str.contains(\"Lançamento (passe)\")\n",
        "dados[\"momento_lesao_arremesso\"] = dados.momento_lesao.str.contains(\"Arremesso\")\n",
        "dados[\"momento_lesao_passofalso\"] =  dados.momento_lesao.str.contains(\"Passo em falso\")\n",
        "dados[\"momento_lesao_finta\"] = dados.momento_lesao.str.contains(\"Fui fazer uma finta com o corpo em velocidade\")\n",
        "dados[\"momento_lesao_paradabrusca\"] = dados.momento_lesao.str.contains(\"Parada brusca e cotovelo no rosto\")\n",
        "dados[\"momento_lesao_recepcao\"] = dados.momento_lesao.str.contains(\"Recepção de passe\")\n",
        "\n",
        "dados = dados.drop(columns = [\"momento_lesao\"])\n",
        "dados.head(1)"
      ],
      "execution_count": null,
      "outputs": [
        {
          "output_type": "stream",
          "text": [
            "/usr/local/lib/python3.7/dist-packages/pandas/core/strings.py:2001: UserWarning: This pattern has match groups. To actually get the groups, use str.extract.\n",
            "  return func(self, *args, **kwargs)\n"
          ],
          "name": "stderr"
        },
        {
          "output_type": "execute_result",
          "data": {
            "text/html": [
              "<div>\n",
              "<style scoped>\n",
              "    .dataframe tbody tr th:only-of-type {\n",
              "        vertical-align: middle;\n",
              "    }\n",
              "\n",
              "    .dataframe tbody tr th {\n",
              "        vertical-align: top;\n",
              "    }\n",
              "\n",
              "    .dataframe thead th {\n",
              "        text-align: right;\n",
              "    }\n",
              "</style>\n",
              "<table border=\"1\" class=\"dataframe\">\n",
              "  <thead>\n",
              "    <tr style=\"text-align: right;\">\n",
              "      <th></th>\n",
              "      <th>Idade</th>\n",
              "      <th>Genero</th>\n",
              "      <th>peso_kg</th>\n",
              "      <th>altura_cm</th>\n",
              "      <th>membro_dominante</th>\n",
              "      <th>mao_arremesso</th>\n",
              "      <th>perna_apoio</th>\n",
              "      <th>posicao</th>\n",
              "      <th>tempo_pratica</th>\n",
              "      <th>num_compet_12meses</th>\n",
              "      <th>num_treino_semana</th>\n",
              "      <th>lesao_musculoesqueletica_12meses</th>\n",
              "      <th>lesao_musculoesqueletica_carreira</th>\n",
              "      <th>lesao_treino_ou_compet</th>\n",
              "      <th>num_lesoes_em_compet</th>\n",
              "      <th>num_lesoes_em_treino</th>\n",
              "      <th>lesao_apos_aumento_intensidade_treino</th>\n",
              "      <th>lesao_apos_aumento_jogos</th>\n",
              "      <th>deixar_partida_lesao_cronica</th>\n",
              "      <th>sente_dor_onde</th>\n",
              "      <th>modifica_jogo_para_evitar_lesao</th>\n",
              "      <th>ranger_ou_estalar_em</th>\n",
              "      <th>dificuldade_agachar</th>\n",
              "      <th>dificuldade_saltar</th>\n",
              "      <th>dificulade_mudar_direcao</th>\n",
              "      <th>dificuldade_arremessar</th>\n",
              "      <th>atendimento_ou_orientação_fisio</th>\n",
              "      <th>tratamento_fisio_lesao</th>\n",
              "      <th>orientacao_prevencao_lesoes</th>\n",
              "      <th>estrategias_nutricionais_perfomance</th>\n",
              "      <th>alimentacao_orientacao</th>\n",
              "      <th>lesao_joelho</th>\n",
              "      <th>lesao_tornozelo</th>\n",
              "      <th>lesao_dedos</th>\n",
              "      <th>tecido_lesionado_musculo</th>\n",
              "      <th>tecido_lesionado_tendao</th>\n",
              "      <th>tecido_lesionado_ligamento</th>\n",
              "      <th>tecido_lesionado_articulacao</th>\n",
              "      <th>tecido_lesionado_osso</th>\n",
              "      <th>tecido_lesionado_nervo</th>\n",
              "      <th>momento_lesao_naosabe</th>\n",
              "      <th>momento_lesao_queda</th>\n",
              "      <th>momento_lesao_corrida</th>\n",
              "      <th>momento_lesao_aterrissagem</th>\n",
              "      <th>momento_lesao_arranque</th>\n",
              "      <th>momento_lesao_salto</th>\n",
              "      <th>momento_lesao_choque</th>\n",
              "      <th>momento_lesao_passe</th>\n",
              "      <th>momento_lesao_arremesso</th>\n",
              "      <th>momento_lesao_passofalso</th>\n",
              "      <th>momento_lesao_finta</th>\n",
              "      <th>momento_lesao_paradabrusca</th>\n",
              "      <th>momento_lesao_recepcao</th>\n",
              "    </tr>\n",
              "  </thead>\n",
              "  <tbody>\n",
              "    <tr>\n",
              "      <th>0</th>\n",
              "      <td>31</td>\n",
              "      <td>Feminino</td>\n",
              "      <td>83.0</td>\n",
              "      <td>174</td>\n",
              "      <td>Braço e Perna - Direita</td>\n",
              "      <td>Direita</td>\n",
              "      <td>Direita</td>\n",
              "      <td>4 - Ala Pivô</td>\n",
              "      <td>Entre 10 e 15 anos</td>\n",
              "      <td>5</td>\n",
              "      <td>2</td>\n",
              "      <td>Sim</td>\n",
              "      <td>Sim</td>\n",
              "      <td>Competição</td>\n",
              "      <td>3</td>\n",
              "      <td>1</td>\n",
              "      <td>Sim</td>\n",
              "      <td>Sim</td>\n",
              "      <td>Não</td>\n",
              "      <td>Pé e tornozelo esquerdo</td>\n",
              "      <td>Um pouco</td>\n",
              "      <td>joelho</td>\n",
              "      <td>Leve</td>\n",
              "      <td>Nenhuma</td>\n",
              "      <td>Leve</td>\n",
              "      <td>Nenhuma</td>\n",
              "      <td>Atendimento</td>\n",
              "      <td>Sim</td>\n",
              "      <td>Fisioterapeuta, Educador Físico</td>\n",
              "      <td>Sim</td>\n",
              "      <td>Nutricionista</td>\n",
              "      <td>False</td>\n",
              "      <td>True</td>\n",
              "      <td>False</td>\n",
              "      <td>True</td>\n",
              "      <td>True</td>\n",
              "      <td>True</td>\n",
              "      <td>False</td>\n",
              "      <td>False</td>\n",
              "      <td>False</td>\n",
              "      <td>True</td>\n",
              "      <td>False</td>\n",
              "      <td>False</td>\n",
              "      <td>False</td>\n",
              "      <td>False</td>\n",
              "      <td>False</td>\n",
              "      <td>False</td>\n",
              "      <td>False</td>\n",
              "      <td>False</td>\n",
              "      <td>False</td>\n",
              "      <td>False</td>\n",
              "      <td>False</td>\n",
              "      <td>False</td>\n",
              "    </tr>\n",
              "  </tbody>\n",
              "</table>\n",
              "</div>"
            ],
            "text/plain": [
              "   Idade    Genero  ...  momento_lesao_paradabrusca  momento_lesao_recepcao\n",
              "0     31  Feminino  ...                       False                   False\n",
              "\n",
              "[1 rows x 53 columns]"
            ]
          },
          "metadata": {
            "tags": []
          },
          "execution_count": 16
        }
      ]
    },
    {
      "cell_type": "code",
      "metadata": {
        "id": "AOWUwYlAPOqu"
      },
      "source": [
        "dados.sente_dor_onde.unique()\n",
        "\n",
        "dados[\"sente_dor_pe\"] = dados.sente_dor_onde.str.contains(\"Pé\")\n",
        "dados[\"sente_dor_tornozelo\"] = dados.sente_dor_onde.str.contains(\"tornozelo|Tornozelo|tornozelos\")\n",
        "dados[\"sente_dor_lombar\"] = dados.sente_dor_onde.str.contains(\"lombar|Lombar\")\n",
        "dados[\"sente_dor_coluna\"] = dados.sente_dor_onde.str.contains(\"Coluna|COLUNA|coluna\")\n",
        "dados[\"sente_dor_joelho\"] = dados.sente_dor_onde.str.contains(\"JOELHO|Joelho|Joelhos|joelho|joelhos\")\n",
        "dados[\"sente_dor_ombro\"] = dados.sente_dor_onde.str.contains(\"OMBRO|ombro|Ombro\")\n",
        "dados[\"sente_dor_nao\"] = dados.sente_dor_onde.str.contains(\"Não\")\n",
        "dados[\"sente_dor_metacarpo\"] = dados.sente_dor_onde.str.contains(\"Metacarpo\")\n",
        "dados[\"sente_dor_clavicula\"] = dados.sente_dor_onde.str.contains(\"clavícula\")\n",
        "dados[\"sente_dor_coxa\"] = dados.sente_dor_onde.str.contains(\"coxa\")\n",
        "dados[\"sente_dor_virilha\"] =dados.sente_dor_onde.str.contains(\"virilha\")\n",
        "dados[\"sente_dor_calcanhar\"] = dados.sente_dor_onde.str.contains(\"calcanhar\")\n",
        "dados[\"sente_dor_cervical\"] = dados.sente_dor_onde.str.contains(\"cervical\")\n",
        "dados[\"sente_dor_tendaoaquiles\"] = dados.sente_dor_onde.str.contains(\"tendões|Tendão\")\n",
        "dados[\"sente_dor_cotovelo\"] = dados.sente_dor_onde.str.contains(\"cotovelo\")\n",
        "dados[\"sente_dor_polegares\"] = dados.sente_dor_onde.str.contains(\"polegares\")\n",
        "dados[\"sente_dor_panturrilha\"] = dados.sente_dor_onde.str.contains(\"panturrilha\")\n",
        "dados[\"sente_dor_pubis\"] = dados.sente_dor_onde.str.contains(\"púbis\")\n",
        "dados[\"sente_dor_costas\"] = dados.sente_dor_onde.str.contains(\"Costa|costas\")\n",
        "\n",
        "dados = dados.drop(columns = [\"sente_dor_onde\"])"
      ],
      "execution_count": null,
      "outputs": []
    },
    {
      "cell_type": "code",
      "metadata": {
        "id": "VFdsMiECWzih",
        "colab": {
          "base_uri": "https://localhost:8080/",
          "height": 360
        },
        "outputId": "134c7029-a390-48d7-e27f-0d7834cfa535"
      },
      "source": [
        "dados.ranger_ou_estalar_em.unique()\n",
        "#joelho\n",
        "#Tornozelo / Pé\n",
        "#cotovelo\n",
        "#ombro\n",
        "#Coluna\n",
        "#Punho / mão\n",
        "#Quadril\n",
        "\n",
        "dados[\"ranger_ou_estalar_em_joelho\"] = dados.ranger_ou_estalar_em.str.contains(\"joelho\")\n",
        "dados[\"ranger_ou_estalar_em_tornozelope\"] = dados.ranger_ou_estalar_em.str.contains(\"Tornozelo / Pé\")\n",
        "dados[\"ranger_ou_estalar_em_cotovelo\"] = dados.ranger_ou_estalar_em.str.contains(\"cotovelo\")\n",
        "dados[\"ranger_ou_estalar_em_ombro\"] = dados.ranger_ou_estalar_em.str.contains(\"ombro\")\n",
        "dados[\"ranger_ou_estalar_em_Coluna\"] = dados.ranger_ou_estalar_em.str.contains(\"Coluna\")\n",
        "dados[\"ranger_ou_estalar_em_punhomao\"] = dados.ranger_ou_estalar_em.str.contains(\"Punho / mão\")\n",
        "dados[\"ranger_ou_estalar_em_quadril\"] = dados.ranger_ou_estalar_em.str.contains(\"Quadril\")\n",
        "\n",
        "dados = dados.drop(columns= [\"ranger_ou_estalar_em\"])\n",
        "dados.head(5)\n"
      ],
      "execution_count": null,
      "outputs": [
        {
          "output_type": "execute_result",
          "data": {
            "text/html": [
              "<div>\n",
              "<style scoped>\n",
              "    .dataframe tbody tr th:only-of-type {\n",
              "        vertical-align: middle;\n",
              "    }\n",
              "\n",
              "    .dataframe tbody tr th {\n",
              "        vertical-align: top;\n",
              "    }\n",
              "\n",
              "    .dataframe thead th {\n",
              "        text-align: right;\n",
              "    }\n",
              "</style>\n",
              "<table border=\"1\" class=\"dataframe\">\n",
              "  <thead>\n",
              "    <tr style=\"text-align: right;\">\n",
              "      <th></th>\n",
              "      <th>Idade</th>\n",
              "      <th>Genero</th>\n",
              "      <th>peso_kg</th>\n",
              "      <th>altura_cm</th>\n",
              "      <th>membro_dominante</th>\n",
              "      <th>mao_arremesso</th>\n",
              "      <th>perna_apoio</th>\n",
              "      <th>posicao</th>\n",
              "      <th>tempo_pratica</th>\n",
              "      <th>num_compet_12meses</th>\n",
              "      <th>num_treino_semana</th>\n",
              "      <th>lesao_musculoesqueletica_12meses</th>\n",
              "      <th>lesao_musculoesqueletica_carreira</th>\n",
              "      <th>lesao_treino_ou_compet</th>\n",
              "      <th>num_lesoes_em_compet</th>\n",
              "      <th>num_lesoes_em_treino</th>\n",
              "      <th>lesao_apos_aumento_intensidade_treino</th>\n",
              "      <th>lesao_apos_aumento_jogos</th>\n",
              "      <th>deixar_partida_lesao_cronica</th>\n",
              "      <th>modifica_jogo_para_evitar_lesao</th>\n",
              "      <th>dificuldade_agachar</th>\n",
              "      <th>dificuldade_saltar</th>\n",
              "      <th>dificulade_mudar_direcao</th>\n",
              "      <th>dificuldade_arremessar</th>\n",
              "      <th>atendimento_ou_orientação_fisio</th>\n",
              "      <th>tratamento_fisio_lesao</th>\n",
              "      <th>orientacao_prevencao_lesoes</th>\n",
              "      <th>estrategias_nutricionais_perfomance</th>\n",
              "      <th>alimentacao_orientacao</th>\n",
              "      <th>lesao_joelho</th>\n",
              "      <th>lesao_tornozelo</th>\n",
              "      <th>lesao_dedos</th>\n",
              "      <th>tecido_lesionado_musculo</th>\n",
              "      <th>tecido_lesionado_tendao</th>\n",
              "      <th>tecido_lesionado_ligamento</th>\n",
              "      <th>tecido_lesionado_articulacao</th>\n",
              "      <th>tecido_lesionado_osso</th>\n",
              "      <th>tecido_lesionado_nervo</th>\n",
              "      <th>momento_lesao_naosabe</th>\n",
              "      <th>momento_lesao_queda</th>\n",
              "      <th>momento_lesao_corrida</th>\n",
              "      <th>momento_lesao_aterrissagem</th>\n",
              "      <th>momento_lesao_arranque</th>\n",
              "      <th>momento_lesao_salto</th>\n",
              "      <th>momento_lesao_choque</th>\n",
              "      <th>momento_lesao_passe</th>\n",
              "      <th>momento_lesao_arremesso</th>\n",
              "      <th>momento_lesao_passofalso</th>\n",
              "      <th>momento_lesao_finta</th>\n",
              "      <th>momento_lesao_paradabrusca</th>\n",
              "      <th>momento_lesao_recepcao</th>\n",
              "      <th>sente_dor_pe</th>\n",
              "      <th>sente_dor_tornozelo</th>\n",
              "      <th>sente_dor_lombar</th>\n",
              "      <th>sente_dor_coluna</th>\n",
              "      <th>sente_dor_joelho</th>\n",
              "      <th>sente_dor_ombro</th>\n",
              "      <th>sente_dor_nao</th>\n",
              "      <th>sente_dor_metacarpo</th>\n",
              "      <th>sente_dor_clavicula</th>\n",
              "      <th>sente_dor_coxa</th>\n",
              "      <th>sente_dor_virilha</th>\n",
              "      <th>sente_dor_calcanhar</th>\n",
              "      <th>sente_dor_cervical</th>\n",
              "      <th>sente_dor_tendaoaquiles</th>\n",
              "      <th>sente_dor_cotovelo</th>\n",
              "      <th>sente_dor_polegares</th>\n",
              "      <th>sente_dor_panturrilha</th>\n",
              "      <th>sente_dor_pubis</th>\n",
              "      <th>sente_dor_costas</th>\n",
              "      <th>ranger_ou_estalar_em_joelho</th>\n",
              "      <th>ranger_ou_estalar_em_tornozelope</th>\n",
              "      <th>ranger_ou_estalar_em_cotovelo</th>\n",
              "      <th>ranger_ou_estalar_em_ombro</th>\n",
              "      <th>ranger_ou_estalar_em_Coluna</th>\n",
              "      <th>ranger_ou_estalar_em_punhomao</th>\n",
              "      <th>ranger_ou_estalar_em_quadril</th>\n",
              "    </tr>\n",
              "  </thead>\n",
              "  <tbody>\n",
              "    <tr>\n",
              "      <th>0</th>\n",
              "      <td>31</td>\n",
              "      <td>Feminino</td>\n",
              "      <td>83.0</td>\n",
              "      <td>174</td>\n",
              "      <td>Braço e Perna - Direita</td>\n",
              "      <td>Direita</td>\n",
              "      <td>Direita</td>\n",
              "      <td>4 - Ala Pivô</td>\n",
              "      <td>Entre 10 e 15 anos</td>\n",
              "      <td>5</td>\n",
              "      <td>2</td>\n",
              "      <td>Sim</td>\n",
              "      <td>Sim</td>\n",
              "      <td>Competição</td>\n",
              "      <td>3</td>\n",
              "      <td>1</td>\n",
              "      <td>Sim</td>\n",
              "      <td>Sim</td>\n",
              "      <td>Não</td>\n",
              "      <td>Um pouco</td>\n",
              "      <td>Leve</td>\n",
              "      <td>Nenhuma</td>\n",
              "      <td>Leve</td>\n",
              "      <td>Nenhuma</td>\n",
              "      <td>Atendimento</td>\n",
              "      <td>Sim</td>\n",
              "      <td>Fisioterapeuta, Educador Físico</td>\n",
              "      <td>Sim</td>\n",
              "      <td>Nutricionista</td>\n",
              "      <td>False</td>\n",
              "      <td>True</td>\n",
              "      <td>False</td>\n",
              "      <td>True</td>\n",
              "      <td>True</td>\n",
              "      <td>True</td>\n",
              "      <td>False</td>\n",
              "      <td>False</td>\n",
              "      <td>False</td>\n",
              "      <td>True</td>\n",
              "      <td>False</td>\n",
              "      <td>False</td>\n",
              "      <td>False</td>\n",
              "      <td>False</td>\n",
              "      <td>False</td>\n",
              "      <td>False</td>\n",
              "      <td>False</td>\n",
              "      <td>False</td>\n",
              "      <td>False</td>\n",
              "      <td>False</td>\n",
              "      <td>False</td>\n",
              "      <td>False</td>\n",
              "      <td>True</td>\n",
              "      <td>True</td>\n",
              "      <td>False</td>\n",
              "      <td>False</td>\n",
              "      <td>False</td>\n",
              "      <td>False</td>\n",
              "      <td>False</td>\n",
              "      <td>False</td>\n",
              "      <td>False</td>\n",
              "      <td>False</td>\n",
              "      <td>False</td>\n",
              "      <td>False</td>\n",
              "      <td>False</td>\n",
              "      <td>False</td>\n",
              "      <td>False</td>\n",
              "      <td>False</td>\n",
              "      <td>False</td>\n",
              "      <td>False</td>\n",
              "      <td>False</td>\n",
              "      <td>True</td>\n",
              "      <td>False</td>\n",
              "      <td>False</td>\n",
              "      <td>False</td>\n",
              "      <td>False</td>\n",
              "      <td>False</td>\n",
              "      <td>False</td>\n",
              "    </tr>\n",
              "    <tr>\n",
              "      <th>1</th>\n",
              "      <td>28</td>\n",
              "      <td>Feminino</td>\n",
              "      <td>75.0</td>\n",
              "      <td>158</td>\n",
              "      <td>Braço e Perna - Direita</td>\n",
              "      <td>Direita</td>\n",
              "      <td>Direita</td>\n",
              "      <td>3 - Lateral/ Ala</td>\n",
              "      <td>Entre 10 e 15 anos</td>\n",
              "      <td>1</td>\n",
              "      <td>1</td>\n",
              "      <td>Não</td>\n",
              "      <td>Não</td>\n",
              "      <td>Competição</td>\n",
              "      <td>2</td>\n",
              "      <td>nenhuma</td>\n",
              "      <td>Sim</td>\n",
              "      <td>Não</td>\n",
              "      <td>Não</td>\n",
              "      <td>Totalmente</td>\n",
              "      <td>Nenhuma</td>\n",
              "      <td>Nenhuma</td>\n",
              "      <td>Nenhuma</td>\n",
              "      <td>Nenhuma</td>\n",
              "      <td>Nenhum</td>\n",
              "      <td>Não</td>\n",
              "      <td>Não</td>\n",
              "      <td>Não</td>\n",
              "      <td>Não</td>\n",
              "      <td>False</td>\n",
              "      <td>False</td>\n",
              "      <td>False</td>\n",
              "      <td>True</td>\n",
              "      <td>False</td>\n",
              "      <td>False</td>\n",
              "      <td>False</td>\n",
              "      <td>False</td>\n",
              "      <td>False</td>\n",
              "      <td>False</td>\n",
              "      <td>True</td>\n",
              "      <td>False</td>\n",
              "      <td>False</td>\n",
              "      <td>False</td>\n",
              "      <td>False</td>\n",
              "      <td>False</td>\n",
              "      <td>False</td>\n",
              "      <td>False</td>\n",
              "      <td>False</td>\n",
              "      <td>False</td>\n",
              "      <td>False</td>\n",
              "      <td>False</td>\n",
              "      <td>True</td>\n",
              "      <td>False</td>\n",
              "      <td>False</td>\n",
              "      <td>False</td>\n",
              "      <td>False</td>\n",
              "      <td>False</td>\n",
              "      <td>False</td>\n",
              "      <td>False</td>\n",
              "      <td>False</td>\n",
              "      <td>False</td>\n",
              "      <td>False</td>\n",
              "      <td>False</td>\n",
              "      <td>False</td>\n",
              "      <td>False</td>\n",
              "      <td>False</td>\n",
              "      <td>False</td>\n",
              "      <td>False</td>\n",
              "      <td>False</td>\n",
              "      <td>False</td>\n",
              "      <td>False</td>\n",
              "      <td>True</td>\n",
              "      <td>False</td>\n",
              "      <td>False</td>\n",
              "      <td>False</td>\n",
              "      <td>False</td>\n",
              "      <td>False</td>\n",
              "    </tr>\n",
              "    <tr>\n",
              "      <th>2</th>\n",
              "      <td>29</td>\n",
              "      <td>Feminino</td>\n",
              "      <td>78.0</td>\n",
              "      <td>158</td>\n",
              "      <td>Braço e Perna - Direita</td>\n",
              "      <td>Esquerda</td>\n",
              "      <td>Direita</td>\n",
              "      <td>1 - Armador Principal</td>\n",
              "      <td>Entre 15 e 20 anos</td>\n",
              "      <td>5</td>\n",
              "      <td>1</td>\n",
              "      <td>Sim</td>\n",
              "      <td>Sim</td>\n",
              "      <td>Treinamento</td>\n",
              "      <td>5</td>\n",
              "      <td>5</td>\n",
              "      <td>Sim</td>\n",
              "      <td>Não</td>\n",
              "      <td>Não</td>\n",
              "      <td>Não</td>\n",
              "      <td>Nenhuma</td>\n",
              "      <td>Leve</td>\n",
              "      <td>Nenhuma</td>\n",
              "      <td>Nenhuma</td>\n",
              "      <td>Nenhum</td>\n",
              "      <td>Não</td>\n",
              "      <td>Médico</td>\n",
              "      <td>Não</td>\n",
              "      <td>Não</td>\n",
              "      <td>False</td>\n",
              "      <td>True</td>\n",
              "      <td>True</td>\n",
              "      <td>False</td>\n",
              "      <td>False</td>\n",
              "      <td>False</td>\n",
              "      <td>True</td>\n",
              "      <td>True</td>\n",
              "      <td>False</td>\n",
              "      <td>False</td>\n",
              "      <td>True</td>\n",
              "      <td>True</td>\n",
              "      <td>False</td>\n",
              "      <td>False</td>\n",
              "      <td>False</td>\n",
              "      <td>False</td>\n",
              "      <td>False</td>\n",
              "      <td>False</td>\n",
              "      <td>False</td>\n",
              "      <td>False</td>\n",
              "      <td>False</td>\n",
              "      <td>False</td>\n",
              "      <td>False</td>\n",
              "      <td>True</td>\n",
              "      <td>True</td>\n",
              "      <td>False</td>\n",
              "      <td>False</td>\n",
              "      <td>False</td>\n",
              "      <td>False</td>\n",
              "      <td>False</td>\n",
              "      <td>False</td>\n",
              "      <td>False</td>\n",
              "      <td>False</td>\n",
              "      <td>False</td>\n",
              "      <td>False</td>\n",
              "      <td>False</td>\n",
              "      <td>False</td>\n",
              "      <td>False</td>\n",
              "      <td>False</td>\n",
              "      <td>False</td>\n",
              "      <td>False</td>\n",
              "      <td>False</td>\n",
              "      <td>True</td>\n",
              "      <td>False</td>\n",
              "      <td>False</td>\n",
              "      <td>False</td>\n",
              "      <td>False</td>\n",
              "      <td>False</td>\n",
              "    </tr>\n",
              "    <tr>\n",
              "      <th>3</th>\n",
              "      <td>30</td>\n",
              "      <td>Feminino</td>\n",
              "      <td>73.0</td>\n",
              "      <td>169</td>\n",
              "      <td>Braço - Direito / Perna - Esquerdo</td>\n",
              "      <td>Direita</td>\n",
              "      <td>Direita</td>\n",
              "      <td>3 - Lateral/ Ala</td>\n",
              "      <td>Entre 10 e 15 anos</td>\n",
              "      <td>3</td>\n",
              "      <td>1</td>\n",
              "      <td>Não</td>\n",
              "      <td>Sim</td>\n",
              "      <td>Treinamento, Competição</td>\n",
              "      <td>1</td>\n",
              "      <td>2</td>\n",
              "      <td>Sim</td>\n",
              "      <td>Sim</td>\n",
              "      <td>Não</td>\n",
              "      <td>Modernamente</td>\n",
              "      <td>Leve</td>\n",
              "      <td>Leve</td>\n",
              "      <td>Leve</td>\n",
              "      <td>Moderada</td>\n",
              "      <td>Orientação</td>\n",
              "      <td>Não</td>\n",
              "      <td>Educador Físico</td>\n",
              "      <td>Sim</td>\n",
              "      <td>Não</td>\n",
              "      <td>False</td>\n",
              "      <td>True</td>\n",
              "      <td>False</td>\n",
              "      <td>False</td>\n",
              "      <td>True</td>\n",
              "      <td>True</td>\n",
              "      <td>False</td>\n",
              "      <td>False</td>\n",
              "      <td>False</td>\n",
              "      <td>False</td>\n",
              "      <td>False</td>\n",
              "      <td>False</td>\n",
              "      <td>True</td>\n",
              "      <td>False</td>\n",
              "      <td>False</td>\n",
              "      <td>False</td>\n",
              "      <td>False</td>\n",
              "      <td>True</td>\n",
              "      <td>False</td>\n",
              "      <td>False</td>\n",
              "      <td>False</td>\n",
              "      <td>False</td>\n",
              "      <td>False</td>\n",
              "      <td>False</td>\n",
              "      <td>False</td>\n",
              "      <td>False</td>\n",
              "      <td>False</td>\n",
              "      <td>False</td>\n",
              "      <td>False</td>\n",
              "      <td>False</td>\n",
              "      <td>False</td>\n",
              "      <td>False</td>\n",
              "      <td>False</td>\n",
              "      <td>False</td>\n",
              "      <td>False</td>\n",
              "      <td>False</td>\n",
              "      <td>False</td>\n",
              "      <td>False</td>\n",
              "      <td>False</td>\n",
              "      <td>False</td>\n",
              "      <td>False</td>\n",
              "      <td>False</td>\n",
              "      <td>True</td>\n",
              "      <td>True</td>\n",
              "      <td>False</td>\n",
              "      <td>False</td>\n",
              "      <td>False</td>\n",
              "      <td>False</td>\n",
              "    </tr>\n",
              "    <tr>\n",
              "      <th>4</th>\n",
              "      <td>24</td>\n",
              "      <td>Masculino</td>\n",
              "      <td>126.0</td>\n",
              "      <td>196</td>\n",
              "      <td>Braço e Perna - Direita</td>\n",
              "      <td>Direita</td>\n",
              "      <td>Esquerda</td>\n",
              "      <td>4 - Ala Pivô</td>\n",
              "      <td>Entre 10 e 15 anos</td>\n",
              "      <td>6</td>\n",
              "      <td>3</td>\n",
              "      <td>Sim</td>\n",
              "      <td>Sim</td>\n",
              "      <td>Competição</td>\n",
              "      <td>4</td>\n",
              "      <td>nenhuma</td>\n",
              "      <td>Sim</td>\n",
              "      <td>Sim</td>\n",
              "      <td>Sim</td>\n",
              "      <td>Um pouco</td>\n",
              "      <td>Moderada</td>\n",
              "      <td>Moderada</td>\n",
              "      <td>Acentuada</td>\n",
              "      <td>Leve</td>\n",
              "      <td>Ambos</td>\n",
              "      <td>Sim</td>\n",
              "      <td>Fisioterapeuta, Educador Físico</td>\n",
              "      <td>Sim</td>\n",
              "      <td>Nutricionista</td>\n",
              "      <td>False</td>\n",
              "      <td>True</td>\n",
              "      <td>False</td>\n",
              "      <td>True</td>\n",
              "      <td>False</td>\n",
              "      <td>True</td>\n",
              "      <td>True</td>\n",
              "      <td>False</td>\n",
              "      <td>True</td>\n",
              "      <td>False</td>\n",
              "      <td>False</td>\n",
              "      <td>True</td>\n",
              "      <td>True</td>\n",
              "      <td>True</td>\n",
              "      <td>False</td>\n",
              "      <td>False</td>\n",
              "      <td>False</td>\n",
              "      <td>False</td>\n",
              "      <td>False</td>\n",
              "      <td>False</td>\n",
              "      <td>False</td>\n",
              "      <td>False</td>\n",
              "      <td>False</td>\n",
              "      <td>False</td>\n",
              "      <td>False</td>\n",
              "      <td>True</td>\n",
              "      <td>False</td>\n",
              "      <td>False</td>\n",
              "      <td>False</td>\n",
              "      <td>False</td>\n",
              "      <td>False</td>\n",
              "      <td>False</td>\n",
              "      <td>False</td>\n",
              "      <td>False</td>\n",
              "      <td>False</td>\n",
              "      <td>False</td>\n",
              "      <td>False</td>\n",
              "      <td>False</td>\n",
              "      <td>False</td>\n",
              "      <td>False</td>\n",
              "      <td>False</td>\n",
              "      <td>False</td>\n",
              "      <td>True</td>\n",
              "      <td>False</td>\n",
              "      <td>False</td>\n",
              "      <td>False</td>\n",
              "      <td>False</td>\n",
              "      <td>False</td>\n",
              "    </tr>\n",
              "  </tbody>\n",
              "</table>\n",
              "</div>"
            ],
            "text/plain": [
              "   Idade  ... ranger_ou_estalar_em_quadril\n",
              "0     31  ...                        False\n",
              "1     28  ...                        False\n",
              "2     29  ...                        False\n",
              "3     30  ...                        False\n",
              "4     24  ...                        False\n",
              "\n",
              "[5 rows x 77 columns]"
            ]
          },
          "metadata": {
            "tags": []
          },
          "execution_count": 18
        }
      ]
    },
    {
      "cell_type": "code",
      "metadata": {
        "colab": {
          "base_uri": "https://localhost:8080/"
        },
        "id": "21GMbZk90EXu",
        "outputId": "7898995d-6ad7-4304-9fc2-b13babc7ed1f"
      },
      "source": [
        "dados.columns\n"
      ],
      "execution_count": null,
      "outputs": [
        {
          "output_type": "execute_result",
          "data": {
            "text/plain": [
              "Index(['Idade', 'Genero', 'peso_kg', 'altura_cm', 'membro_dominante',\n",
              "       'mao_arremesso', 'perna_apoio', 'posicao', 'tempo_pratica',\n",
              "       'num_compet_12meses', 'num_treino_semana',\n",
              "       'lesao_musculoesqueletica_12meses', 'lesao_musculoesqueletica_carreira',\n",
              "       'lesao_treino_ou_compet', 'num_lesoes_em_compet',\n",
              "       'num_lesoes_em_treino', 'lesao_apos_aumento_intensidade_treino',\n",
              "       'lesao_apos_aumento_jogos', 'deixar_partida_lesao_cronica',\n",
              "       'modifica_jogo_para_evitar_lesao', 'dificuldade_agachar',\n",
              "       'dificuldade_saltar', 'dificulade_mudar_direcao',\n",
              "       'dificuldade_arremessar', 'atendimento_ou_orientação_fisio',\n",
              "       'tratamento_fisio_lesao', 'orientacao_prevencao_lesoes',\n",
              "       'estrategias_nutricionais_perfomance', 'alimentacao_orientacao',\n",
              "       'lesao_joelho', 'lesao_tornozelo', 'lesao_dedos',\n",
              "       'tecido_lesionado_musculo', 'tecido_lesionado_tendao',\n",
              "       'tecido_lesionado_ligamento', 'tecido_lesionado_articulacao',\n",
              "       'tecido_lesionado_osso', 'tecido_lesionado_nervo',\n",
              "       'momento_lesao_naosabe', 'momento_lesao_queda', 'momento_lesao_corrida',\n",
              "       'momento_lesao_aterrissagem', 'momento_lesao_arranque',\n",
              "       'momento_lesao_salto', 'momento_lesao_choque', 'momento_lesao_passe',\n",
              "       'momento_lesao_arremesso', 'momento_lesao_passofalso',\n",
              "       'momento_lesao_finta', 'momento_lesao_paradabrusca',\n",
              "       'momento_lesao_recepcao', 'sente_dor_pe', 'sente_dor_tornozelo',\n",
              "       'sente_dor_lombar', 'sente_dor_coluna', 'sente_dor_joelho',\n",
              "       'sente_dor_ombro', 'sente_dor_nao', 'sente_dor_metacarpo',\n",
              "       'sente_dor_clavicula', 'sente_dor_coxa', 'sente_dor_virilha',\n",
              "       'sente_dor_calcanhar', 'sente_dor_cervical', 'sente_dor_tendaoaquiles',\n",
              "       'sente_dor_cotovelo', 'sente_dor_polegares', 'sente_dor_panturrilha',\n",
              "       'sente_dor_pubis', 'sente_dor_costas', 'ranger_ou_estalar_em_joelho',\n",
              "       'ranger_ou_estalar_em_tornozelope', 'ranger_ou_estalar_em_cotovelo',\n",
              "       'ranger_ou_estalar_em_ombro', 'ranger_ou_estalar_em_Coluna',\n",
              "       'ranger_ou_estalar_em_punhomao', 'ranger_ou_estalar_em_quadril'],\n",
              "      dtype='object')"
            ]
          },
          "metadata": {
            "tags": []
          },
          "execution_count": 19
        }
      ]
    },
    {
      "cell_type": "code",
      "metadata": {
        "id": "dXkS6rH0kXrE"
      },
      "source": [
        "dados.to_excel(\"dadosbonitinhos.xlsx\")"
      ],
      "execution_count": null,
      "outputs": []
    },
    {
      "cell_type": "code",
      "metadata": {
        "colab": {
          "base_uri": "https://localhost:8080/",
          "height": 353
        },
        "id": "WaEpZzESxy_E",
        "outputId": "c90505b9-02f0-4478-eec6-1b233d763382"
      },
      "source": [
        "#PLOTS\n",
        "from matplotlib import pyplot as plt\n",
        " \n",
        "lesao_joelho = dados[dados.lesao_joelho] #pegando apenas quem tem lesao no joelho ==TRUE\n",
        "lesao_tornozelo = dados[dados.lesao_tornozelo]\n",
        "lesao_dedos = dados[dados.lesao_dedos]\n",
        "plt.figure(figsize=(10,5))\n",
        "plt.bar(\"Joelho\",lesao_joelho.shape[0])\n",
        "plt.bar(\"Tornozelo\", lesao_tornozelo.shape[0])\n",
        "plt.bar(\"Dedos\",lesao_dedos.shape[0])\n",
        "plt.title(\"Locais das lesões\")\n"
      ],
      "execution_count": null,
      "outputs": [
        {
          "output_type": "execute_result",
          "data": {
            "text/plain": [
              "Text(0.5, 1.0, 'Locais das lesões')"
            ]
          },
          "metadata": {
            "tags": []
          },
          "execution_count": 20
        },
        {
          "output_type": "display_data",
          "data": {
            "image/png": "[encoded data removed]",
            "text/plain": [
              "<Figure size 720x360 with 1 Axes>"
            ]
          },
          "metadata": {
            "tags": [],
            "needs_background": "light"
          }
        }
      ]
    },
    {
      "cell_type": "code",
      "metadata": {
        "colab": {
          "base_uri": "https://localhost:8080/",
          "height": 353
        },
        "id": "Xl8VocKKSa5h",
        "outputId": "19ceb02f-b70d-4d43-a664-278cb38a05e7"
      },
      "source": [
        "dadosmasc = dados[dados.Genero == 'Masculino']\n",
        "plt.figure(figsize=(10,5))\n",
        "plt.bar(\"Homem\", dadosmasc.shape[0])\n",
        "dadosfem = dados[dados.Genero == 'Feminino']\n",
        "plt.bar(\"Mulher\", dadosfem.shape[0])\n",
        "plt.title(\"Divisão de atletas por Gênero\")"
      ],
      "execution_count": null,
      "outputs": [
        {
          "output_type": "execute_result",
          "data": {
            "text/plain": [
              "Text(0.5, 1.0, 'Divisão de atletas por Gênero')"
            ]
          },
          "metadata": {
            "tags": []
          },
          "execution_count": 21
        },
        {
          "output_type": "display_data",
          "data": {
            "image/png": "[encoded data removed]",
            "text/plain": [
              "<Figure size 720x360 with 1 Axes>"
            ]
          },
          "metadata": {
            "tags": [],
            "needs_background": "light"
          }
        }
      ]
    },
    {
      "cell_type": "code",
      "metadata": {
        "colab": {
          "base_uri": "https://localhost:8080/",
          "height": 353
        },
        "id": "nbr2YzBq4uDn",
        "outputId": "68d91090-128f-4f00-ecf6-0ccbebfe22da"
      },
      "source": [
        "plt.figure(figsize=(10,5))\n",
        "treino1 = dados[dados[\"num_treino_semana\"] == 1]\n",
        "plt.bar(\"1\",treino1.shape[0])\n",
        "treino2 = dados[dados[\"num_treino_semana\"] == 2]\n",
        "plt.bar(\"2\", treino2.shape[0])\n",
        "treino3 = dados[dados[\"num_treino_semana\"] == 3]\n",
        "plt.bar(\"3\", treino3.shape[0])\n",
        "treino4 = dados[dados[\"num_treino_semana\"] == 4]\n",
        "plt.bar(\"4\",treino4.shape[0])\n",
        "treino5 = dados[dados[\"num_treino_semana\"] == 5]\n",
        "plt.bar(\"5\", treino5.shape[0])\n",
        "treino7 = dados[dados[\"num_treino_semana\"] == 7]\n",
        "plt.bar(\"7\", treino7.shape[0])\n",
        "plt.title(\"Número de treinos semanais\")"
      ],
      "execution_count": null,
      "outputs": [
        {
          "output_type": "execute_result",
          "data": {
            "text/plain": [
              "Text(0.5, 1.0, 'Número de treinos semanais')"
            ]
          },
          "metadata": {
            "tags": []
          },
          "execution_count": 22
        },
        {
          "output_type": "display_data",
          "data": {
            "image/png": "[encoded data removed]",
            "text/plain": [
              "<Figure size 720x360 with 1 Axes>"
            ]
          },
          "metadata": {
            "tags": [],
            "needs_background": "light"
          }
        }
      ]
    },
    {
      "cell_type": "code",
      "metadata": {
        "colab": {
          "base_uri": "https://localhost:8080/",
          "height": 353
        },
        "id": "i46t9KBuRwQA",
        "outputId": "cd335ca5-94e6-4ee4-8092-402ae0761316"
      },
      "source": [
        "plt.figure(figsize=(10,5))\n",
        "tratamento_sim = dados[dados.tratamento_fisio_lesao == 'Sim']\n",
        "plt.bar(\"Sim\", tratamento_sim.shape[0])\n",
        "tratamento_nao = dados[dados.tratamento_fisio_lesao == 'Não']\n",
        "plt.bar(\"Não\", tratamento_nao.shape[0])\n",
        "plt.title(\"Atletas que trataram lesões com Fisioterapia\")\n"
      ],
      "execution_count": null,
      "outputs": [
        {
          "output_type": "execute_result",
          "data": {
            "text/plain": [
              "Text(0.5, 1.0, 'Atletas que trataram lesões com Fisioterapia')"
            ]
          },
          "metadata": {
            "tags": []
          },
          "execution_count": 23
        },
        {
          "output_type": "display_data",
          "data": {
            "image/png": "[encoded data removed]",
            "text/plain": [
              "<Figure size 720x360 with 1 Axes>"
            ]
          },
          "metadata": {
            "tags": [],
            "needs_background": "light"
          }
        }
      ]
    },
    {
      "cell_type": "code",
      "metadata": {
        "colab": {
          "base_uri": "https://localhost:8080/",
          "height": 353
        },
        "id": "4imIjcV_TOaX",
        "outputId": "f97c88e3-ad70-401e-cc8f-f8a1c2f0d127"
      },
      "source": [
        "dados.modifica_jogo_para_evitar_lesao.unique()\n",
        "\n",
        "modifica_umpouco = dados[dados.modifica_jogo_para_evitar_lesao == 'Um pouco']\n",
        "modifica_totalmente = dados[dados.modifica_jogo_para_evitar_lesao == 'Toltamente']\n",
        "modifica_nao = dados[dados.modifica_jogo_para_evitar_lesao == 'Não']\n",
        "modifica_moderadamente = dados[dados.modifica_jogo_para_evitar_lesao == 'Modernamente']\n",
        "modifica_muito = dados[dados.modifica_jogo_para_evitar_lesao == 'Muito']\n",
        "plt.figure(figsize=(10,5))\n",
        "plt.bar(\"Um pouco\", modifica_umpouco.shape[0])\n",
        "plt.bar(\"Moderadamente\", modifica_moderadamente.shape[0])\n",
        "plt.bar(\"Muito\", modifica_muito.shape[0])\n",
        "plt.bar(\"Totalmente\", modifica_totalmente.shape[0])\n",
        "plt.bar(\"Não modifica\", modifica_nao.shape[0])\n",
        "plt.title(\"Atletas que modificam seu jogo para evitar lesões \")\n"
      ],
      "execution_count": null,
      "outputs": [
        {
          "output_type": "execute_result",
          "data": {
            "text/plain": [
              "Text(0.5, 1.0, 'Atletas que modificam seu jogo para evitar lesões ')"
            ]
          },
          "metadata": {
            "tags": []
          },
          "execution_count": 24
        },
        {
          "output_type": "display_data",
          "data": {
            "image/png": "[encoded data removed]",
            "text/plain": [
              "<Figure size 720x360 with 1 Axes>"
            ]
          },
          "metadata": {
            "tags": [],
            "needs_background": "light"
          }
        }
      ]
    },
    {
      "cell_type": "code",
      "metadata": {
        "colab": {
          "base_uri": "https://localhost:8080/",
          "height": 353
        },
        "id": "Gskb7z-mVeyU",
        "outputId": "92fa29d7-f64e-4738-adbc-1c1fe76ea943"
      },
      "source": [
        "dados.lesao_apos_aumento_intensidade_treino.unique()\n",
        "\n",
        "aumento_treino_sim = dados[dados.lesao_apos_aumento_intensidade_treino == 'Sim']\n",
        "aumento_treino_nao = dados[dados.lesao_apos_aumento_intensidade_treino == 'Não']\n",
        "plt.figure(figsize=(10,5))\n",
        "plt.bar(\"Sim\", aumento_treino_sim.shape[0])\n",
        "plt.bar(\"Não\", aumento_treino_nao.shape[0])\n",
        "plt.title(\"Atletas que sofreram lesões após aumento da intensidade dos treinos\")"
      ],
      "execution_count": null,
      "outputs": [
        {
          "output_type": "execute_result",
          "data": {
            "text/plain": [
              "Text(0.5, 1.0, 'Atletas que sofreram lesões após aumento da intensidade dos treinos')"
            ]
          },
          "metadata": {
            "tags": []
          },
          "execution_count": 25
        },
        {
          "output_type": "display_data",
          "data": {
            "image/png": "[encoded data removed]",
            "text/plain": [
              "<Figure size 720x360 with 1 Axes>"
            ]
          },
          "metadata": {
            "tags": [],
            "needs_background": "light"
          }
        }
      ]
    },
    {
      "cell_type": "code",
      "metadata": {
        "colab": {
          "base_uri": "https://localhost:8080/",
          "height": 353
        },
        "id": "mDh05xcZV_Mk",
        "outputId": "0dec6ef9-ca37-431e-c6f6-8a5174bba667"
      },
      "source": [
        "dados.lesao_apos_aumento_jogos.unique()\n",
        "\n",
        "lesao_aumento_jogos_sim = dados[dados.lesao_apos_aumento_jogos == 'Sim']\n",
        "lesao_aumento_jogos_nao = dados[dados.lesao_apos_aumento_jogos == 'Não']\n",
        "plt.figure(figsize=(10,5))\n",
        "plt.bar(\"Sim\", lesao_aumento_jogos_sim.shape[0])\n",
        "plt.bar(\"Não\", lesao_aumento_jogos_nao.shape[0])\n",
        "plt.title(\"Atletas que sofreram lesoes após aumento da quantidade de jogos\")"
      ],
      "execution_count": null,
      "outputs": [
        {
          "output_type": "execute_result",
          "data": {
            "text/plain": [
              "Text(0.5, 1.0, 'Atletas que sofreram lesoes após aumento da quantidade de jogos')"
            ]
          },
          "metadata": {
            "tags": []
          },
          "execution_count": 26
        },
        {
          "output_type": "display_data",
          "data": {
            "image/png": "[encoded data removed]",
            "text/plain": [
              "<Figure size 720x360 with 1 Axes>"
            ]
          },
          "metadata": {
            "tags": [],
            "needs_background": "light"
          }
        }
      ]
    },
    {
      "cell_type": "code",
      "metadata": {
        "colab": {
          "base_uri": "https://localhost:8080/",
          "height": 353
        },
        "id": "hyXkYNuXEat-",
        "outputId": "8ebf6888-e6a1-4bf3-c7ba-e54d77e4099f"
      },
      "source": [
        "dados.lesao_treino_ou_compet.unique()\n",
        "\n",
        "\n",
        "lesao_em_compet = dados[dados.lesao_treino_ou_compet == 'Competição']\n",
        "lesao_em_treino = dados[dados.lesao_treino_ou_compet == 'Treinamento']\n",
        "lesao_em_treino_e_compet = dados[dados.lesao_treino_ou_compet == 'Treinamento, Competição']\n",
        "\n",
        "plt.figure(figsize=(10,5))\n",
        "plt.bar(\"Competição\", lesao_em_compet.shape[0])\n",
        "plt.bar(\"Treinamento\", lesao_em_treino.shape[0])\n",
        "plt.bar(\"Nos dois\", lesao_em_treino_e_compet.shape[0])\n",
        "plt.title(\"Atletas que se lesionaram em treinamento ou competições\")"
      ],
      "execution_count": null,
      "outputs": [
        {
          "output_type": "execute_result",
          "data": {
            "text/plain": [
              "Text(0.5, 1.0, 'Atletas que se lesionaram em treinamento ou competições')"
            ]
          },
          "metadata": {
            "tags": []
          },
          "execution_count": 27
        },
        {
          "output_type": "display_data",
          "data": {
            "image/png": "[encoded data removed]",
            "text/plain": [
              "<Figure size 720x360 with 1 Axes>"
            ]
          },
          "metadata": {
            "tags": [],
            "needs_background": "light"
          }
        }
      ]
    },
    {
      "cell_type": "code",
      "metadata": {
        "colab": {
          "base_uri": "https://localhost:8080/",
          "height": 353
        },
        "id": "u9xYl9QLGn-P",
        "outputId": "b623086b-27ba-4804-d7d8-5c60d2332ed2"
      },
      "source": [
        "momento_arranque = dados[dados.momento_lesao_arranque]\n",
        "momento_arremesso = dados[dados.momento_lesao_arremesso]\n",
        "momento_aterrissagem = dados[dados.momento_lesao_aterrissagem]\n",
        "momento_choque = dados[dados.momento_lesao_choque]\n",
        "momento_corrida = dados[dados.momento_lesao_corrida]\n",
        "momento_salto = dados[dados.momento_lesao_salto]\n",
        "\n",
        "\n",
        "plt.figure(figsize=(10,5))\n",
        "plt.bar(\"Arranque\",momento_arranque.shape[0])\n",
        "plt.bar(\"Arremesso\",momento_arremesso.shape[0])\n",
        "plt.bar(\"Aterrissagem\",momento_aterrissagem.shape[0])\n",
        "plt.bar(\"Choque\",momento_choque.shape[0])\n",
        "plt.bar(\"Corrida\",momento_corrida.shape[0])\n",
        "plt.bar(\"Salto\",momento_salto.shape[0])\n",
        "plt.title(\"Momento das lesões\")\n"
      ],
      "execution_count": null,
      "outputs": [
        {
          "output_type": "execute_result",
          "data": {
            "text/plain": [
              "Text(0.5, 1.0, 'Momento das lesões')"
            ]
          },
          "metadata": {
            "tags": []
          },
          "execution_count": 37
        },
        {
          "output_type": "display_data",
          "data": {
            "image/png": "[encoded data removed]",
            "text/plain": [
              "<Figure size 720x360 with 1 Axes>"
            ]
          },
          "metadata": {
            "tags": [],
            "needs_background": "light"
          }
        }
      ]
    },
    {
      "cell_type": "code",
      "metadata": {
        "colab": {
          "base_uri": "https://localhost:8080/",
          "height": 353
        },
        "id": "pWNMo9wiJHu2",
        "outputId": "8b6e1569-1a9c-4634-ab4b-d50098fbba20"
      },
      "source": [
        "sentedor_coluna = dados[dados.sente_dor_coluna]\n",
        "sentedor_costas = dados[dados.sente_dor_costas]\n",
        "sentedor_coxa = dados[dados.sente_dor_coxa]\n",
        "sentedor_joelho = dados[dados.sente_dor_joelho]\n",
        "sentedor_lombar = dados[dados.sente_dor_lombar]\n",
        "sentedor_ombro = dados[dados.sente_dor_ombro]\n",
        "sentedor_tornozelo = dados[dados.sente_dor_tornozelo]\n",
        "\n",
        "\n",
        "plt.figure(figsize=(10,5))\n",
        "plt.bar(\"Coluna\",sentedor_coluna.shape[0])\n",
        "plt.bar(\"Costas\",sentedor_costas.shape[0])\n",
        "plt.bar(\"Coxa\",sentedor_coxa.shape[0])\n",
        "plt.bar(\"Joelho\",sentedor_joelho.shape[0])\n",
        "plt.bar(\"Lombar\",sentedor_lombar.shape[0])\n",
        "plt.bar(\"Ombro\",sentedor_ombro.shape[0])\n",
        "plt.bar(\"Tornozelo\",sentedor_tornozelo.shape[0])\n",
        "plt.title(\"Locais onde o atleta sente dor\")"
      ],
      "execution_count": null,
      "outputs": [
        {
          "output_type": "execute_result",
          "data": {
            "text/plain": [
              "Text(0.5, 1.0, 'Locais onde o atleta sente dor')"
            ]
          },
          "metadata": {
            "tags": []
          },
          "execution_count": 41
        },
        {
          "output_type": "display_data",
          "data": {
            "image/png": "[encoded data removed]",
            "text/plain": [
              "<Figure size 720x360 with 1 Axes>"
            ]
          },
          "metadata": {
            "tags": [],
            "needs_background": "light"
          }
        }
      ]
    },
    {
      "cell_type": "code",
      "metadata": {
        "id": "iSAPRfs-MiMZ"
      },
      "source": [
        "dados.columns\n",
        "\n",
        "dados = dados.drop(columns =['alimentacao_orientacao','estrategias_nutricionais_perfomance','orientacao_prevencao_lesoes','atendimento_ou_orientação_fisio',\n",
        "       'tratamento_fisio_lesao'] )"
      ],
      "execution_count": null,
      "outputs": []
    },
    {
      "cell_type": "code",
      "metadata": {
        "colab": {
          "base_uri": "https://localhost:8080/",
          "height": 146
        },
        "id": "aR5CgKnQMcGG",
        "outputId": "9eea5717-29ad-4f19-9ff6-99fda6a69672"
      },
      "source": [
        "encoded_data = pd.get_dummies(dados)\n",
        "\n",
        "encoded_data.head()\n",
        "\n",
        "#so preciso das colunas ==true das lesoes entao dropo as colunas false\n",
        "\n",
        "encoded_data.columns\n",
        "#encoded_data = encoded_data.drop(columns =['locais_lesao','lesao_joelho_False','lesao_tornozelo_False', 'lesao_dedos_False'])\n",
        "\n",
        "#transformando os 0 e 1 em strings (para classificar, as labels precisam ser dados nao continuos)\n",
        "\n",
        "#encoded_data.lesao_joelho_True = encoded_data.lesao_joelho_True.replace(0, \"NÃO\")\n",
        "#encoded_data.lesao_joelho_True = encoded_data.lesao_joelho_True.replace(1, \"SIM\")\n",
        "\n",
        "\n",
        "encoded_data.to_excel(\"encoded_data.xlsx\")\n",
        "\n",
        "\n",
        "encoded_data.head(1)"
      ],
      "execution_count": null,
      "outputs": [
        {
          "output_type": "execute_result",
          "data": {
            "text/html": [
              "<div>\n",
              "<style scoped>\n",
              "    .dataframe tbody tr th:only-of-type {\n",
              "        vertical-align: middle;\n",
              "    }\n",
              "\n",
              "    .dataframe tbody tr th {\n",
              "        vertical-align: top;\n",
              "    }\n",
              "\n",
              "    .dataframe thead th {\n",
              "        text-align: right;\n",
              "    }\n",
              "</style>\n",
              "<table border=\"1\" class=\"dataframe\">\n",
              "  <thead>\n",
              "    <tr style=\"text-align: right;\">\n",
              "      <th></th>\n",
              "      <th>Idade</th>\n",
              "      <th>peso_kg</th>\n",
              "      <th>altura_cm</th>\n",
              "      <th>num_compet_12meses</th>\n",
              "      <th>num_treino_semana</th>\n",
              "      <th>lesao_joelho</th>\n",
              "      <th>lesao_tornozelo</th>\n",
              "      <th>lesao_dedos</th>\n",
              "      <th>tecido_lesionado_musculo</th>\n",
              "      <th>tecido_lesionado_tendao</th>\n",
              "      <th>tecido_lesionado_ligamento</th>\n",
              "      <th>tecido_lesionado_articulacao</th>\n",
              "      <th>tecido_lesionado_osso</th>\n",
              "      <th>tecido_lesionado_nervo</th>\n",
              "      <th>momento_lesao_naosabe</th>\n",
              "      <th>momento_lesao_queda</th>\n",
              "      <th>momento_lesao_corrida</th>\n",
              "      <th>momento_lesao_aterrissagem</th>\n",
              "      <th>momento_lesao_arranque</th>\n",
              "      <th>momento_lesao_salto</th>\n",
              "      <th>momento_lesao_choque</th>\n",
              "      <th>momento_lesao_passe</th>\n",
              "      <th>momento_lesao_arremesso</th>\n",
              "      <th>momento_lesao_passofalso</th>\n",
              "      <th>momento_lesao_finta</th>\n",
              "      <th>momento_lesao_paradabrusca</th>\n",
              "      <th>momento_lesao_recepcao</th>\n",
              "      <th>sente_dor_pe</th>\n",
              "      <th>sente_dor_tornozelo</th>\n",
              "      <th>sente_dor_lombar</th>\n",
              "      <th>sente_dor_coluna</th>\n",
              "      <th>sente_dor_joelho</th>\n",
              "      <th>sente_dor_ombro</th>\n",
              "      <th>sente_dor_nao</th>\n",
              "      <th>sente_dor_metacarpo</th>\n",
              "      <th>sente_dor_clavicula</th>\n",
              "      <th>sente_dor_coxa</th>\n",
              "      <th>sente_dor_virilha</th>\n",
              "      <th>sente_dor_calcanhar</th>\n",
              "      <th>sente_dor_cervical</th>\n",
              "      <th>...</th>\n",
              "      <th>num_lesoes_em_compet_3</th>\n",
              "      <th>num_lesoes_em_compet_4</th>\n",
              "      <th>num_lesoes_em_compet_5</th>\n",
              "      <th>num_lesoes_em_compet_mais de 5</th>\n",
              "      <th>num_lesoes_em_compet_nenhuma</th>\n",
              "      <th>num_lesoes_em_treino_1</th>\n",
              "      <th>num_lesoes_em_treino_2</th>\n",
              "      <th>num_lesoes_em_treino_3</th>\n",
              "      <th>num_lesoes_em_treino_4</th>\n",
              "      <th>num_lesoes_em_treino_5</th>\n",
              "      <th>num_lesoes_em_treino_mais de 5</th>\n",
              "      <th>num_lesoes_em_treino_nenhuma</th>\n",
              "      <th>lesao_apos_aumento_intensidade_treino_Não</th>\n",
              "      <th>lesao_apos_aumento_intensidade_treino_Sim</th>\n",
              "      <th>lesao_apos_aumento_jogos_Não</th>\n",
              "      <th>lesao_apos_aumento_jogos_Sim</th>\n",
              "      <th>deixar_partida_lesao_cronica_Não</th>\n",
              "      <th>deixar_partida_lesao_cronica_Sim</th>\n",
              "      <th>modifica_jogo_para_evitar_lesao_Modernamente</th>\n",
              "      <th>modifica_jogo_para_evitar_lesao_Muito</th>\n",
              "      <th>modifica_jogo_para_evitar_lesao_Não</th>\n",
              "      <th>modifica_jogo_para_evitar_lesao_Totalmente</th>\n",
              "      <th>modifica_jogo_para_evitar_lesao_Um pouco</th>\n",
              "      <th>dificuldade_agachar_Acentuada</th>\n",
              "      <th>dificuldade_agachar_Leve</th>\n",
              "      <th>dificuldade_agachar_Moderada</th>\n",
              "      <th>dificuldade_agachar_Nenhuma</th>\n",
              "      <th>dificuldade_saltar_Acentuada</th>\n",
              "      <th>dificuldade_saltar_Leve</th>\n",
              "      <th>dificuldade_saltar_Moderada</th>\n",
              "      <th>dificuldade_saltar_Nenhuma</th>\n",
              "      <th>dificulade_mudar_direcao_Acentuada</th>\n",
              "      <th>dificulade_mudar_direcao_Extrema</th>\n",
              "      <th>dificulade_mudar_direcao_Leve</th>\n",
              "      <th>dificulade_mudar_direcao_Moderada</th>\n",
              "      <th>dificulade_mudar_direcao_Nenhuma</th>\n",
              "      <th>dificuldade_arremessar_Acentuada</th>\n",
              "      <th>dificuldade_arremessar_Leve</th>\n",
              "      <th>dificuldade_arremessar_Moderada</th>\n",
              "      <th>dificuldade_arremessar_Nenhuma</th>\n",
              "    </tr>\n",
              "  </thead>\n",
              "  <tbody>\n",
              "    <tr>\n",
              "      <th>0</th>\n",
              "      <td>31</td>\n",
              "      <td>83.0</td>\n",
              "      <td>174</td>\n",
              "      <td>5</td>\n",
              "      <td>2</td>\n",
              "      <td>False</td>\n",
              "      <td>True</td>\n",
              "      <td>False</td>\n",
              "      <td>True</td>\n",
              "      <td>True</td>\n",
              "      <td>True</td>\n",
              "      <td>False</td>\n",
              "      <td>False</td>\n",
              "      <td>False</td>\n",
              "      <td>True</td>\n",
              "      <td>False</td>\n",
              "      <td>False</td>\n",
              "      <td>False</td>\n",
              "      <td>False</td>\n",
              "      <td>False</td>\n",
              "      <td>False</td>\n",
              "      <td>False</td>\n",
              "      <td>False</td>\n",
              "      <td>False</td>\n",
              "      <td>False</td>\n",
              "      <td>False</td>\n",
              "      <td>False</td>\n",
              "      <td>True</td>\n",
              "      <td>True</td>\n",
              "      <td>False</td>\n",
              "      <td>False</td>\n",
              "      <td>False</td>\n",
              "      <td>False</td>\n",
              "      <td>False</td>\n",
              "      <td>False</td>\n",
              "      <td>False</td>\n",
              "      <td>False</td>\n",
              "      <td>False</td>\n",
              "      <td>False</td>\n",
              "      <td>False</td>\n",
              "      <td>...</td>\n",
              "      <td>1</td>\n",
              "      <td>0</td>\n",
              "      <td>0</td>\n",
              "      <td>0</td>\n",
              "      <td>0</td>\n",
              "      <td>1</td>\n",
              "      <td>0</td>\n",
              "      <td>0</td>\n",
              "      <td>0</td>\n",
              "      <td>0</td>\n",
              "      <td>0</td>\n",
              "      <td>0</td>\n",
              "      <td>0</td>\n",
              "      <td>1</td>\n",
              "      <td>0</td>\n",
              "      <td>1</td>\n",
              "      <td>1</td>\n",
              "      <td>0</td>\n",
              "      <td>0</td>\n",
              "      <td>0</td>\n",
              "      <td>0</td>\n",
              "      <td>0</td>\n",
              "      <td>1</td>\n",
              "      <td>0</td>\n",
              "      <td>1</td>\n",
              "      <td>0</td>\n",
              "      <td>0</td>\n",
              "      <td>0</td>\n",
              "      <td>0</td>\n",
              "      <td>0</td>\n",
              "      <td>1</td>\n",
              "      <td>0</td>\n",
              "      <td>0</td>\n",
              "      <td>1</td>\n",
              "      <td>0</td>\n",
              "      <td>0</td>\n",
              "      <td>0</td>\n",
              "      <td>0</td>\n",
              "      <td>0</td>\n",
              "      <td>1</td>\n",
              "    </tr>\n",
              "  </tbody>\n",
              "</table>\n",
              "<p>1 rows × 135 columns</p>\n",
              "</div>"
            ],
            "text/plain": [
              "   Idade  ...  dificuldade_arremessar_Nenhuma\n",
              "0     31  ...                               1\n",
              "\n",
              "[1 rows x 135 columns]"
            ]
          },
          "metadata": {
            "tags": []
          },
          "execution_count": 24
        }
      ]
    },
    {
      "cell_type": "code",
      "metadata": {
        "id": "n9oHA2I0vQwl"
      },
      "source": [
        ""
      ],
      "execution_count": null,
      "outputs": []
    }
  ]
}