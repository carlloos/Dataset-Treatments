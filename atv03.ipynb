{
 "cells": [
  {
   "cell_type": "code",
   "execution_count": 1,
   "metadata": {},
   "outputs": [],
   "source": [
    "import pandas as pd"
   ]
  },
  {
   "cell_type": "code",
   "execution_count": 2,
   "metadata": {},
   "outputs": [
    {
     "data": {
      "text/html": [
       "<div>\n",
       "<style scoped>\n",
       "    .dataframe tbody tr th:only-of-type {\n",
       "        vertical-align: middle;\n",
       "    }\n",
       "\n",
       "    .dataframe tbody tr th {\n",
       "        vertical-align: top;\n",
       "    }\n",
       "\n",
       "    .dataframe thead th {\n",
       "        text-align: right;\n",
       "    }\n",
       "</style>\n",
       "<table border=\"1\" class=\"dataframe\">\n",
       "  <thead>\n",
       "    <tr style=\"text-align: right;\">\n",
       "      <th></th>\n",
       "      <th>ID</th>\n",
       "      <th>AL</th>\n",
       "      <th>ACD</th>\n",
       "      <th>WTW</th>\n",
       "      <th>K1</th>\n",
       "      <th>K2</th>\n",
       "      <th>Correto</th>\n",
       "    </tr>\n",
       "  </thead>\n",
       "  <tbody>\n",
       "    <tr>\n",
       "      <th>0</th>\n",
       "      <td>0</td>\n",
       "      <td>23.79</td>\n",
       "      <td>3.32</td>\n",
       "      <td>12.0</td>\n",
       "      <td>43.60</td>\n",
       "      <td>44.29</td>\n",
       "      <td>S</td>\n",
       "    </tr>\n",
       "    <tr>\n",
       "      <th>1</th>\n",
       "      <td>1</td>\n",
       "      <td>24.60</td>\n",
       "      <td>3.39</td>\n",
       "      <td>12.3</td>\n",
       "      <td>42.03</td>\n",
       "      <td>43.95</td>\n",
       "      <td>S</td>\n",
       "    </tr>\n",
       "    <tr>\n",
       "      <th>2</th>\n",
       "      <td>2</td>\n",
       "      <td>24.59</td>\n",
       "      <td>3.51</td>\n",
       "      <td>12.3</td>\n",
       "      <td>42.83</td>\n",
       "      <td>43.05</td>\n",
       "      <td>S</td>\n",
       "    </tr>\n",
       "    <tr>\n",
       "      <th>3</th>\n",
       "      <td>3</td>\n",
       "      <td>24.04</td>\n",
       "      <td>2.96</td>\n",
       "      <td>12.0</td>\n",
       "      <td>42.35</td>\n",
       "      <td>42.83</td>\n",
       "      <td>S</td>\n",
       "    </tr>\n",
       "    <tr>\n",
       "      <th>4</th>\n",
       "      <td>4</td>\n",
       "      <td>24.80</td>\n",
       "      <td>2.44</td>\n",
       "      <td>12.2</td>\n",
       "      <td>41.01</td>\n",
       "      <td>41.67</td>\n",
       "      <td>S</td>\n",
       "    </tr>\n",
       "  </tbody>\n",
       "</table>\n",
       "</div>"
      ],
      "text/plain": [
       "   ID     AL   ACD   WTW     K1     K2 Correto\n",
       "0   0  23.79  3.32  12.0  43.60  44.29       S\n",
       "1   1  24.60  3.39  12.3  42.03  43.95       S\n",
       "2   2  24.59  3.51  12.3  42.83  43.05       S\n",
       "3   3  24.04  2.96  12.0  42.35  42.83       S\n",
       "4   4  24.80  2.44  12.2  41.01  41.67       S"
      ]
     },
     "execution_count": 2,
     "metadata": {},
     "output_type": "execute_result"
    }
   ],
   "source": [
    "data  = pd.read_excel('/home/carllos/UFAL/M.L/barrettII_eyes_clustering.xlsx')\n",
    "\n",
    "data.head(5)"
   ]
  },
  {
   "cell_type": "code",
   "execution_count": 3,
   "metadata": {},
   "outputs": [
    {
     "data": {
      "text/html": [
       "<div>\n",
       "<style scoped>\n",
       "    .dataframe tbody tr th:only-of-type {\n",
       "        vertical-align: middle;\n",
       "    }\n",
       "\n",
       "    .dataframe tbody tr th {\n",
       "        vertical-align: top;\n",
       "    }\n",
       "\n",
       "    .dataframe thead th {\n",
       "        text-align: right;\n",
       "    }\n",
       "</style>\n",
       "<table border=\"1\" class=\"dataframe\">\n",
       "  <thead>\n",
       "    <tr style=\"text-align: right;\">\n",
       "      <th></th>\n",
       "      <th>AL</th>\n",
       "      <th>ACD</th>\n",
       "      <th>WTW</th>\n",
       "      <th>K1</th>\n",
       "      <th>K2</th>\n",
       "    </tr>\n",
       "  </thead>\n",
       "  <tbody>\n",
       "    <tr>\n",
       "      <th>0</th>\n",
       "      <td>23.79</td>\n",
       "      <td>3.32</td>\n",
       "      <td>12.0</td>\n",
       "      <td>43.6</td>\n",
       "      <td>44.29</td>\n",
       "    </tr>\n",
       "  </tbody>\n",
       "</table>\n",
       "</div>"
      ],
      "text/plain": [
       "      AL   ACD   WTW    K1     K2\n",
       "0  23.79  3.32  12.0  43.6  44.29"
      ]
     },
     "execution_count": 3,
     "metadata": {},
     "output_type": "execute_result"
    }
   ],
   "source": [
    "data_cluster = data.iloc[:, 1:-1] #sem coluna ID e Correto\n",
    "data_cluster.head(1)"
   ]
  },
  {
   "cell_type": "code",
   "execution_count": 17,
   "metadata": {},
   "outputs": [],
   "source": [
    "from sklearn.cluster import KMeans\n",
    "\n",
    "kmeans = KMeans(n_clusters = 3)\n",
    "\n",
    "pred_y = kmeans.fit_predict(data_cluster)\n"
   ]
  },
  {
   "cell_type": "code",
   "execution_count": 18,
   "metadata": {},
   "outputs": [
    {
     "data": {
      "image/png": "[encoded data removed]",
      "text/plain": [
       "<Figure size 720x720 with 1 Axes>"
      ]
     },
     "metadata": {
      "needs_background": "light"
     },
     "output_type": "display_data"
    }
   ],
   "source": [
    "import matplotlib.pyplot as plt\n",
    "#elbow method \n",
    "cost =[]\n",
    "for i in range(1, 11):\n",
    "    KM = KMeans(n_clusters = i, max_iter = 500)\n",
    "    KM.fit(data_cluster)\n",
    "     \n",
    "    # calculates squared error\n",
    "    # for the clustered points\n",
    "    cost.append(KM.inertia_)    \n",
    " \n",
    "# plot the cost against K values\n",
    "fig = plt.subplots(figsize=(10, 10))\n",
    "plt.plot(range(1, 11), cost, color ='b', linewidth ='3')\n",
    "plt.xlabel(\"Value of K\")\n",
    "plt.ylabel(\"Squared Error (Cost)\")\n",
    "plt.show() # clear the plot"
   ]
  },
  {
   "cell_type": "code",
   "execution_count": 6,
   "metadata": {},
   "outputs": [
    {
     "data": {
      "image/png": "[encoded data removed]",
      "text/plain": [
       "<Figure size 720x720 with 1 Axes>"
      ]
     },
     "metadata": {
      "needs_background": "light"
     },
     "output_type": "display_data"
    }
   ],
   "source": [
    "from sklearn.metrics import silhouette_score\n",
    "\n",
    "scores =[]\n",
    "for i in range(2, 11):\n",
    "    KM = KMeans(n_clusters = i, max_iter = 500)\n",
    "    KM.fit(data_cluster)\n",
    "     \n",
    "    # calculates squared error\n",
    "    # for the clustered points\n",
    "    scores.append(silhouette_score(data_cluster, KM.labels_))    \n",
    " \n",
    "# plot the cost against K values\n",
    "fig = plt.subplots(figsize=(10, 10))\n",
    "plt.plot(range(2, 11), scores, color ='b', linewidth ='3')\n",
    "plt.xlabel(\"Value of K\")\n",
    "plt.ylabel(\"Silhouette score\")\n",
    "plt.show() # clear the plot\n"
   ]
  },
  {
   "cell_type": "code",
   "execution_count": 19,
   "metadata": {},
   "outputs": [
    {
     "data": {
      "text/html": [
       "<div>\n",
       "<style scoped>\n",
       "    .dataframe tbody tr th:only-of-type {\n",
       "        vertical-align: middle;\n",
       "    }\n",
       "\n",
       "    .dataframe tbody tr th {\n",
       "        vertical-align: top;\n",
       "    }\n",
       "\n",
       "    .dataframe thead th {\n",
       "        text-align: right;\n",
       "    }\n",
       "</style>\n",
       "<table border=\"1\" class=\"dataframe\">\n",
       "  <thead>\n",
       "    <tr style=\"text-align: right;\">\n",
       "      <th></th>\n",
       "      <th>AL</th>\n",
       "      <th>ACD</th>\n",
       "      <th>WTW</th>\n",
       "      <th>K1</th>\n",
       "      <th>K2</th>\n",
       "      <th>Cluster</th>\n",
       "    </tr>\n",
       "  </thead>\n",
       "  <tbody>\n",
       "    <tr>\n",
       "      <th>0</th>\n",
       "      <td>23.79</td>\n",
       "      <td>3.32</td>\n",
       "      <td>12.0</td>\n",
       "      <td>43.60</td>\n",
       "      <td>44.29</td>\n",
       "      <td>2</td>\n",
       "    </tr>\n",
       "    <tr>\n",
       "      <th>1</th>\n",
       "      <td>24.60</td>\n",
       "      <td>3.39</td>\n",
       "      <td>12.3</td>\n",
       "      <td>42.03</td>\n",
       "      <td>43.95</td>\n",
       "      <td>2</td>\n",
       "    </tr>\n",
       "    <tr>\n",
       "      <th>2</th>\n",
       "      <td>24.59</td>\n",
       "      <td>3.51</td>\n",
       "      <td>12.3</td>\n",
       "      <td>42.83</td>\n",
       "      <td>43.05</td>\n",
       "      <td>2</td>\n",
       "    </tr>\n",
       "    <tr>\n",
       "      <th>3</th>\n",
       "      <td>24.04</td>\n",
       "      <td>2.96</td>\n",
       "      <td>12.0</td>\n",
       "      <td>42.35</td>\n",
       "      <td>42.83</td>\n",
       "      <td>0</td>\n",
       "    </tr>\n",
       "    <tr>\n",
       "      <th>4</th>\n",
       "      <td>24.80</td>\n",
       "      <td>2.44</td>\n",
       "      <td>12.2</td>\n",
       "      <td>41.01</td>\n",
       "      <td>41.67</td>\n",
       "      <td>0</td>\n",
       "    </tr>\n",
       "    <tr>\n",
       "      <th>5</th>\n",
       "      <td>23.08</td>\n",
       "      <td>3.51</td>\n",
       "      <td>12.5</td>\n",
       "      <td>45.55</td>\n",
       "      <td>48.28</td>\n",
       "      <td>1</td>\n",
       "    </tr>\n",
       "    <tr>\n",
       "      <th>6</th>\n",
       "      <td>23.73</td>\n",
       "      <td>2.87</td>\n",
       "      <td>12.0</td>\n",
       "      <td>43.21</td>\n",
       "      <td>45.12</td>\n",
       "      <td>2</td>\n",
       "    </tr>\n",
       "    <tr>\n",
       "      <th>7</th>\n",
       "      <td>24.16</td>\n",
       "      <td>3.31</td>\n",
       "      <td>12.4</td>\n",
       "      <td>39.85</td>\n",
       "      <td>41.11</td>\n",
       "      <td>0</td>\n",
       "    </tr>\n",
       "    <tr>\n",
       "      <th>8</th>\n",
       "      <td>23.13</td>\n",
       "      <td>2.83</td>\n",
       "      <td>11.7</td>\n",
       "      <td>41.62</td>\n",
       "      <td>42.83</td>\n",
       "      <td>0</td>\n",
       "    </tr>\n",
       "    <tr>\n",
       "      <th>9</th>\n",
       "      <td>22.76</td>\n",
       "      <td>2.96</td>\n",
       "      <td>12.2</td>\n",
       "      <td>45.49</td>\n",
       "      <td>46.36</td>\n",
       "      <td>1</td>\n",
       "    </tr>\n",
       "  </tbody>\n",
       "</table>\n",
       "</div>"
      ],
      "text/plain": [
       "      AL   ACD   WTW     K1     K2  Cluster\n",
       "0  23.79  3.32  12.0  43.60  44.29        2\n",
       "1  24.60  3.39  12.3  42.03  43.95        2\n",
       "2  24.59  3.51  12.3  42.83  43.05        2\n",
       "3  24.04  2.96  12.0  42.35  42.83        0\n",
       "4  24.80  2.44  12.2  41.01  41.67        0\n",
       "5  23.08  3.51  12.5  45.55  48.28        1\n",
       "6  23.73  2.87  12.0  43.21  45.12        2\n",
       "7  24.16  3.31  12.4  39.85  41.11        0\n",
       "8  23.13  2.83  11.7  41.62  42.83        0\n",
       "9  22.76  2.96  12.2  45.49  46.36        1"
      ]
     },
     "execution_count": 19,
     "metadata": {},
     "output_type": "execute_result"
    }
   ],
   "source": [
    "clusters = pd.DataFrame(pred_y, columns = ['Cluster'])\n",
    "data_clusterized = data_cluster.join(clusters, sort =False)\n",
    "data_clusterized.head(10)"
   ]
  },
  {
   "cell_type": "code",
   "execution_count": 20,
   "metadata": {},
   "outputs": [],
   "source": [
    "cluster0 = data_clusterized[data_clusterized['Cluster'] == 0]\n",
    "cluster1 = data_clusterized[data_clusterized['Cluster'] == 1]\n",
    "cluster2 = data_clusterized[data_clusterized['Cluster'] == 2]"
   ]
  },
  {
   "cell_type": "code",
   "execution_count": 25,
   "metadata": {},
   "outputs": [
    {
     "data": {
      "image/png": "[encoded data removed]",
      "text/plain": [
       "<Figure size 720x360 with 3 Axes>"
      ]
     },
     "metadata": {
      "needs_background": "light"
     },
     "output_type": "display_data"
    }
   ],
   "source": [
    "\n",
    "plt.figure(figsize=(10,5))\n",
    "plt.subplot(1, 3, 1)\n",
    "plt.boxplot(cluster0['AL'])\n",
    "plt.ylim(20,30)\n",
    "plt.subplot(1, 3, 2)\n",
    "plt.boxplot(cluster1['AL'])\n",
    "plt.ylim(20,30)\n",
    "plt.subplot(1,3,3)\n",
    "plt.boxplot(cluster2['AL'])\n",
    "plt.ylim(20,30)\n",
    "\n",
    "plt.show()"
   ]
  },
  {
   "cell_type": "code",
   "execution_count": 26,
   "metadata": {},
   "outputs": [
    {
     "data": {
      "image/png": "[encoded data removed]",
      "text/plain": [
       "<Figure size 720x360 with 3 Axes>"
      ]
     },
     "metadata": {
      "needs_background": "light"
     },
     "output_type": "display_data"
    }
   ],
   "source": [
    "plt.figure(figsize=(10,5))\n",
    "plt.subplot(1, 3, 1)\n",
    "plt.boxplot(cluster0['ACD'])\n",
    "plt.ylim(1, 5)\n",
    "plt.subplot(1, 3, 2)\n",
    "plt.boxplot(cluster1['ACD'])\n",
    "plt.ylim(1, 5)\n",
    "plt.subplot(1, 3, 3)\n",
    "plt.boxplot(cluster2['ACD'])\n",
    "plt.ylim(1, 5)\n",
    "plt.show()"
   ]
  },
  {
   "cell_type": "code",
   "execution_count": 27,
   "metadata": {},
   "outputs": [
    {
     "data": {
      "image/png": "[encoded data removed]",
      "text/plain": [
       "<Figure size 720x360 with 3 Axes>"
      ]
     },
     "metadata": {
      "needs_background": "light"
     },
     "output_type": "display_data"
    }
   ],
   "source": [
    "plt.figure(figsize=(10,5))\n",
    "plt.subplot(1, 3, 1)\n",
    "plt.boxplot(cluster0['WTW'])\n",
    "plt.ylim(10, 15)\n",
    "plt.subplot(1, 3, 2)\n",
    "plt.boxplot(cluster1['WTW'])\n",
    "plt.ylim(10, 15)\n",
    "plt.subplot(1, 3, 3)\n",
    "plt.boxplot(cluster2['WTW'])\n",
    "plt.ylim(10, 15)\n",
    "plt.show()"
   ]
  },
  {
   "cell_type": "code",
   "execution_count": 28,
   "metadata": {},
   "outputs": [
    {
     "data": {
      "image/png": "[encoded data removed]",
      "text/plain": [
       "<Figure size 720x360 with 3 Axes>"
      ]
     },
     "metadata": {
      "needs_background": "light"
     },
     "output_type": "display_data"
    }
   ],
   "source": [
    "plt.figure(figsize=(10,5))\n",
    "plt.subplot(1, 3, 1)\n",
    "plt.boxplot(cluster0['K1'])\n",
    "plt.ylim(30, 50)\n",
    "plt.subplot(1, 3, 2)\n",
    "plt.boxplot(cluster1['K1'])\n",
    "plt.ylim(30, 50)\n",
    "plt.subplot(1, 3, 3)\n",
    "plt.boxplot(cluster2['K1'])\n",
    "plt.ylim(30, 50)\n",
    "plt.show()"
   ]
  },
  {
   "cell_type": "code",
   "execution_count": 29,
   "metadata": {},
   "outputs": [
    {
     "data": {
      "image/png": "[encoded data removed]",
      "text/plain": [
       "<Figure size 720x360 with 3 Axes>"
      ]
     },
     "metadata": {
      "needs_background": "light"
     },
     "output_type": "display_data"
    }
   ],
   "source": [
    "plt.figure(figsize=(10,5))\n",
    "plt.subplot(1, 3, 1)\n",
    "plt.boxplot(cluster0['K2'])\n",
    "plt.ylim(34, 53)\n",
    "plt.subplot(1, 3, 2)\n",
    "plt.boxplot(cluster1['K2'])\n",
    "plt.ylim(34, 53)\n",
    "plt.subplot(1, 3, 3)\n",
    "plt.boxplot(cluster2['K2'])\n",
    "plt.ylim(34, 53)\n",
    "plt.show()"
   ]
  },
  {
   "cell_type": "code",
   "execution_count": 30,
   "metadata": {},
   "outputs": [
    {
     "data": {
      "text/html": [
       "<div>\n",
       "<style scoped>\n",
       "    .dataframe tbody tr th:only-of-type {\n",
       "        vertical-align: middle;\n",
       "    }\n",
       "\n",
       "    .dataframe tbody tr th {\n",
       "        vertical-align: top;\n",
       "    }\n",
       "\n",
       "    .dataframe thead th {\n",
       "        text-align: right;\n",
       "    }\n",
       "</style>\n",
       "<table border=\"1\" class=\"dataframe\">\n",
       "  <thead>\n",
       "    <tr style=\"text-align: right;\">\n",
       "      <th></th>\n",
       "      <th>AL</th>\n",
       "      <th>ACD</th>\n",
       "      <th>WTW</th>\n",
       "      <th>K1</th>\n",
       "      <th>K2</th>\n",
       "      <th>Cluster</th>\n",
       "      <th>Correto</th>\n",
       "    </tr>\n",
       "  </thead>\n",
       "  <tbody>\n",
       "    <tr>\n",
       "      <th>0</th>\n",
       "      <td>23.79</td>\n",
       "      <td>3.32</td>\n",
       "      <td>12.0</td>\n",
       "      <td>43.60</td>\n",
       "      <td>44.29</td>\n",
       "      <td>2</td>\n",
       "      <td>S</td>\n",
       "    </tr>\n",
       "    <tr>\n",
       "      <th>1</th>\n",
       "      <td>24.60</td>\n",
       "      <td>3.39</td>\n",
       "      <td>12.3</td>\n",
       "      <td>42.03</td>\n",
       "      <td>43.95</td>\n",
       "      <td>2</td>\n",
       "      <td>S</td>\n",
       "    </tr>\n",
       "    <tr>\n",
       "      <th>2</th>\n",
       "      <td>24.59</td>\n",
       "      <td>3.51</td>\n",
       "      <td>12.3</td>\n",
       "      <td>42.83</td>\n",
       "      <td>43.05</td>\n",
       "      <td>2</td>\n",
       "      <td>S</td>\n",
       "    </tr>\n",
       "    <tr>\n",
       "      <th>3</th>\n",
       "      <td>24.04</td>\n",
       "      <td>2.96</td>\n",
       "      <td>12.0</td>\n",
       "      <td>42.35</td>\n",
       "      <td>42.83</td>\n",
       "      <td>0</td>\n",
       "      <td>S</td>\n",
       "    </tr>\n",
       "    <tr>\n",
       "      <th>4</th>\n",
       "      <td>24.80</td>\n",
       "      <td>2.44</td>\n",
       "      <td>12.2</td>\n",
       "      <td>41.01</td>\n",
       "      <td>41.67</td>\n",
       "      <td>0</td>\n",
       "      <td>S</td>\n",
       "    </tr>\n",
       "    <tr>\n",
       "      <th>5</th>\n",
       "      <td>23.08</td>\n",
       "      <td>3.51</td>\n",
       "      <td>12.5</td>\n",
       "      <td>45.55</td>\n",
       "      <td>48.28</td>\n",
       "      <td>1</td>\n",
       "      <td>S</td>\n",
       "    </tr>\n",
       "    <tr>\n",
       "      <th>6</th>\n",
       "      <td>23.73</td>\n",
       "      <td>2.87</td>\n",
       "      <td>12.0</td>\n",
       "      <td>43.21</td>\n",
       "      <td>45.12</td>\n",
       "      <td>2</td>\n",
       "      <td>S</td>\n",
       "    </tr>\n",
       "    <tr>\n",
       "      <th>7</th>\n",
       "      <td>24.16</td>\n",
       "      <td>3.31</td>\n",
       "      <td>12.4</td>\n",
       "      <td>39.85</td>\n",
       "      <td>41.11</td>\n",
       "      <td>0</td>\n",
       "      <td>S</td>\n",
       "    </tr>\n",
       "    <tr>\n",
       "      <th>8</th>\n",
       "      <td>23.13</td>\n",
       "      <td>2.83</td>\n",
       "      <td>11.7</td>\n",
       "      <td>41.62</td>\n",
       "      <td>42.83</td>\n",
       "      <td>0</td>\n",
       "      <td>S</td>\n",
       "    </tr>\n",
       "    <tr>\n",
       "      <th>9</th>\n",
       "      <td>22.76</td>\n",
       "      <td>2.96</td>\n",
       "      <td>12.2</td>\n",
       "      <td>45.49</td>\n",
       "      <td>46.36</td>\n",
       "      <td>1</td>\n",
       "      <td>N</td>\n",
       "    </tr>\n",
       "    <tr>\n",
       "      <th>10</th>\n",
       "      <td>25.00</td>\n",
       "      <td>3.51</td>\n",
       "      <td>12.7</td>\n",
       "      <td>39.52</td>\n",
       "      <td>40.08</td>\n",
       "      <td>0</td>\n",
       "      <td>S</td>\n",
       "    </tr>\n",
       "    <tr>\n",
       "      <th>11</th>\n",
       "      <td>22.29</td>\n",
       "      <td>2.97</td>\n",
       "      <td>11.9</td>\n",
       "      <td>41.82</td>\n",
       "      <td>44.76</td>\n",
       "      <td>2</td>\n",
       "      <td>S</td>\n",
       "    </tr>\n",
       "    <tr>\n",
       "      <th>12</th>\n",
       "      <td>22.94</td>\n",
       "      <td>3.35</td>\n",
       "      <td>12.2</td>\n",
       "      <td>44.64</td>\n",
       "      <td>45.18</td>\n",
       "      <td>1</td>\n",
       "      <td>N</td>\n",
       "    </tr>\n",
       "    <tr>\n",
       "      <th>13</th>\n",
       "      <td>22.96</td>\n",
       "      <td>3.33</td>\n",
       "      <td>12.4</td>\n",
       "      <td>45.24</td>\n",
       "      <td>46.62</td>\n",
       "      <td>1</td>\n",
       "      <td>S</td>\n",
       "    </tr>\n",
       "    <tr>\n",
       "      <th>14</th>\n",
       "      <td>23.01</td>\n",
       "      <td>4.89</td>\n",
       "      <td>12.5</td>\n",
       "      <td>45.30</td>\n",
       "      <td>46.68</td>\n",
       "      <td>1</td>\n",
       "      <td>N</td>\n",
       "    </tr>\n",
       "    <tr>\n",
       "      <th>15</th>\n",
       "      <td>23.39</td>\n",
       "      <td>2.90</td>\n",
       "      <td>11.9</td>\n",
       "      <td>42.24</td>\n",
       "      <td>43.60</td>\n",
       "      <td>2</td>\n",
       "      <td>S</td>\n",
       "    </tr>\n",
       "    <tr>\n",
       "      <th>16</th>\n",
       "      <td>24.63</td>\n",
       "      <td>3.23</td>\n",
       "      <td>12.1</td>\n",
       "      <td>42.45</td>\n",
       "      <td>42.78</td>\n",
       "      <td>0</td>\n",
       "      <td>S</td>\n",
       "    </tr>\n",
       "    <tr>\n",
       "      <th>17</th>\n",
       "      <td>24.72</td>\n",
       "      <td>2.72</td>\n",
       "      <td>12.3</td>\n",
       "      <td>41.77</td>\n",
       "      <td>42.24</td>\n",
       "      <td>0</td>\n",
       "      <td>N</td>\n",
       "    </tr>\n",
       "    <tr>\n",
       "      <th>18</th>\n",
       "      <td>24.28</td>\n",
       "      <td>3.21</td>\n",
       "      <td>12.0</td>\n",
       "      <td>42.67</td>\n",
       "      <td>43.10</td>\n",
       "      <td>2</td>\n",
       "      <td>N</td>\n",
       "    </tr>\n",
       "    <tr>\n",
       "      <th>19</th>\n",
       "      <td>24.08</td>\n",
       "      <td>3.21</td>\n",
       "      <td>12.0</td>\n",
       "      <td>43.44</td>\n",
       "      <td>44.76</td>\n",
       "      <td>2</td>\n",
       "      <td>S</td>\n",
       "    </tr>\n",
       "  </tbody>\n",
       "</table>\n",
       "</div>"
      ],
      "text/plain": [
       "       AL   ACD   WTW     K1     K2  Cluster Correto\n",
       "0   23.79  3.32  12.0  43.60  44.29        2       S\n",
       "1   24.60  3.39  12.3  42.03  43.95        2       S\n",
       "2   24.59  3.51  12.3  42.83  43.05        2       S\n",
       "3   24.04  2.96  12.0  42.35  42.83        0       S\n",
       "4   24.80  2.44  12.2  41.01  41.67        0       S\n",
       "5   23.08  3.51  12.5  45.55  48.28        1       S\n",
       "6   23.73  2.87  12.0  43.21  45.12        2       S\n",
       "7   24.16  3.31  12.4  39.85  41.11        0       S\n",
       "8   23.13  2.83  11.7  41.62  42.83        0       S\n",
       "9   22.76  2.96  12.2  45.49  46.36        1       N\n",
       "10  25.00  3.51  12.7  39.52  40.08        0       S\n",
       "11  22.29  2.97  11.9  41.82  44.76        2       S\n",
       "12  22.94  3.35  12.2  44.64  45.18        1       N\n",
       "13  22.96  3.33  12.4  45.24  46.62        1       S\n",
       "14  23.01  4.89  12.5  45.30  46.68        1       N\n",
       "15  23.39  2.90  11.9  42.24  43.60        2       S\n",
       "16  24.63  3.23  12.1  42.45  42.78        0       S\n",
       "17  24.72  2.72  12.3  41.77  42.24        0       N\n",
       "18  24.28  3.21  12.0  42.67  43.10        2       N\n",
       "19  24.08  3.21  12.0  43.44  44.76        2       S"
      ]
     },
     "execution_count": 30,
     "metadata": {},
     "output_type": "execute_result"
    }
   ],
   "source": [
    "data.iloc[:, -1]\n",
    "\n",
    "data_clusterized_correto = data_clusterized.join(data.iloc[:, -1], sort = False)\n",
    "\n",
    "data_clusterized_correto.head(20)\n"
   ]
  },
  {
   "cell_type": "code",
   "execution_count": 34,
   "metadata": {},
   "outputs": [
    {
     "name": "stdout",
     "output_type": "stream",
     "text": [
      "Corretos = 'S' no cluster 0: 237\n",
      "Corretos = 'S' no cluster 1: 302\n",
      "Corretos = 'S' no cluster 1: 543\n"
     ]
    },
    {
     "data": {
      "image/png": "[encoded data removed]",
      "text/plain": [
       "<Figure size 720x360 with 1 Axes>"
      ]
     },
     "metadata": {
      "needs_background": "light"
     },
     "output_type": "display_data"
    }
   ],
   "source": [
    "cluster0_correto = data_clusterized_correto[data_clusterized_correto['Cluster']== 0]\n",
    "cluster1_correto = data_clusterized_correto[data_clusterized_correto['Cluster']== 1]\n",
    "cluster2_correto = data_clusterized_correto[data_clusterized_correto['Cluster']== 2]\n",
    "\n",
    "plt.figure(figsize=(10,5))\n",
    "\n",
    "plt.bar(\"Cluster 0\", cluster0_correto[cluster0_correto['Correto']== 'S'].shape[0])\n",
    "plt.bar(\"Cluster 1\", cluster1_correto[cluster1_correto['Correto']== 'S'].shape[0])\n",
    "plt.bar(\"Cluster 2\", cluster2_correto[cluster2_correto['Correto']== 'S'].shape[0])\n",
    "\n",
    "\n",
    "print(f\"Corretos = 'S' no cluster 0: {cluster0_correto[cluster0_correto['Correto']== 'S'].shape[0]}\")\n",
    "print(f\"Corretos = 'S' no cluster 1: {cluster1_correto[cluster1_correto['Correto']== 'S'].shape[0]}\")\n",
    "print(f\"Corretos = 'S' no cluster 1: {cluster2_correto[cluster2_correto['Correto']== 'S'].shape[0]}\")\n"
   ]
  },
  {
   "cell_type": "code",
   "execution_count": 35,
   "metadata": {},
   "outputs": [
    {
     "data": {
      "text/plain": [
       "AL         24.521922\n",
       "ACD         3.184685\n",
       "WTW        12.228228\n",
       "K1         41.253333\n",
       "K2         42.155766\n",
       "Cluster     0.000000\n",
       "dtype: float64"
      ]
     },
     "execution_count": 35,
     "metadata": {},
     "output_type": "execute_result"
    }
   ],
   "source": [
    "cluster0.mean()\n",
    "\n",
    "#olhos maiores (AL)\n",
    "#profundidade da cavidade grande (ACD)\n",
    "#branco-a-branco alto (WTW)\n",
    "#curvaturas da cornea menor (K1 e K2)"
   ]
  },
  {
   "cell_type": "code",
   "execution_count": 36,
   "metadata": {},
   "outputs": [
    {
     "data": {
      "text/plain": [
       "AL         22.593333\n",
       "ACD         3.005320\n",
       "WTW        11.719749\n",
       "K1         45.386575\n",
       "K2         46.375251\n",
       "Cluster     1.000000\n",
       "dtype: float64"
      ]
     },
     "execution_count": 36,
     "metadata": {},
     "output_type": "execute_result"
    }
   ],
   "source": [
    "cluster1.mean()\n",
    "#olhos menores\n",
    "#Profundidade da cavidade anterior menor\n",
    "#branco-a-branco menor\n",
    "#curvaturas da cornea maior"
   ]
  },
  {
   "cell_type": "code",
   "execution_count": 37,
   "metadata": {},
   "outputs": [
    {
     "data": {
      "text/plain": [
       "AL         23.547860\n",
       "ACD         3.131110\n",
       "WTW        12.011493\n",
       "K1         43.334531\n",
       "K2         44.184571\n",
       "Cluster     2.000000\n",
       "dtype: float64"
      ]
     },
     "execution_count": 37,
     "metadata": {},
     "output_type": "execute_result"
    }
   ],
   "source": [
    "cluster2.mean()\n",
    "#olhos maiores (AL)\n",
    "#profundidade da cavidade grande (ACD)\n",
    "#branco-a-branco alto (WTW)\n",
    "#curvatura da cornea grande (menor que o cluster 1)\n"
   ]
  }
 ],
 "metadata": {
  "interpreter": {
   "hash": "916dbcbb3f70747c44a77c7bcd40155683ae19c65e1c03b4aa3499c5328201f1"
  },
  "kernelspec": {
   "display_name": "Python 3.8.10 64-bit",
   "language": "python",
   "name": "python3"
  },
  "language_info": {
   "codemirror_mode": {
    "name": "ipython",
    "version": 3
   },
   "file_extension": ".py",
   "mimetype": "text/x-python",
   "name": "python",
   "nbconvert_exporter": "python",
   "pygments_lexer": "ipython3",
   "version": "3.9.7"
  },
  "orig_nbformat": 4
 },
 "nbformat": 4,
 "nbformat_minor": 2
}
